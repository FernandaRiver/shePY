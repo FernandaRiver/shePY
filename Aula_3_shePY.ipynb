{
  "nbformat": 4,
  "nbformat_minor": 0,
  "metadata": {
    "colab": {
      "name": "Aula 3.shePY",
      "provenance": [],
      "authorship_tag": "ABX9TyM4J0fDRUlowUY1BSruEP84",
      "include_colab_link": true
    },
    "kernelspec": {
      "name": "python3",
      "display_name": "Python 3"
    },
    "language_info": {
      "name": "python"
    }
  },
  "cells": [
    {
      "cell_type": "markdown",
      "metadata": {
        "id": "view-in-github",
        "colab_type": "text"
      },
      "source": [
        "<a href=\"https://colab.research.google.com/github/fernandarrios/shePY/blob/main/Aula_3_shePY.ipynb\" target=\"_parent\"><img src=\"https://colab.research.google.com/assets/colab-badge.svg\" alt=\"Open In Colab\"/></a>"
      ]
    },
    {
      "cell_type": "markdown",
      "metadata": {
        "id": "K1oSKfbeyTVG"
      },
      "source": [
        "###Estruturas condicionais\n",
        "\n",
        "Quando programamos, muitas vezes precisamos que determinado bloco de código seja executado apenas se uma determinada condição for verdadeira. Nesse caso, devemos fazer uso de estrutura de condição.\n",
        "\n",
        "**if**\n",
        "\n",
        "if(em português **se**) é uma estrutura de condição que permite avaliar uma expressão e, de acordo com seu resultado, executar uma determinada ação.\n",
        "```python\n",
        "if condição_do_if:\n",
        "    # bloco executado se a condição for verdadeira\n",
        "    comandos\n",
        " ```\n",
        "### **else:**\n",
        "Caso a condição avaliada com o if não seja atendida, definimos um fluxo alternativo que o código deve seguir. \n",
        "```python\n",
        "if condição_do_if:\n",
        "    # bloco executado se a condição for verdadeira\n",
        "    comandos\n",
        "else:\n",
        "    # bloco executado se a condição do if for falsa\n",
        "    comandos\n",
        "```\n",
        "\n",
        "### **elif:**\n",
        "O elif é uma contração do else if que torna mais claro o tratamento das várias alternativas, encadeando condições.\n",
        "```python\n",
        "if condição_do_if:\n",
        "    # bloco executado se a condição for verdadeira\n",
        "    comandos\n",
        "\n",
        "elif:\n",
        "    # bloco executado caso haja um caminho alternativo à condição do bloco if\n",
        "    comandos\n",
        "\n",
        "else:\n",
        "    # bloco executado se a condição do if for falsa\n",
        "    comandos\n",
        "```\n"
      ]
    },
    {
      "cell_type": "code",
      "metadata": {
        "colab": {
          "base_uri": "https://localhost:8080/"
        },
        "id": "IB6UDjs_1LOJ",
        "outputId": "87f85713-2bbf-4a68-9408-80197a7b121c"
      },
      "source": [
        "nota = int(input('Digite uma nota: '))\n",
        "if nota >= 8:\n",
        "  print('Aprovada satisfatoriamente')"
      ],
      "execution_count": null,
      "outputs": [
        {
          "output_type": "stream",
          "text": [
            "Digite uma nota: 7\n"
          ],
          "name": "stdout"
        }
      ]
    },
    {
      "cell_type": "code",
      "metadata": {
        "colab": {
          "base_uri": "https://localhost:8080/"
        },
        "id": "k0bCrjTv3kMO",
        "outputId": "afe4cc6f-61cc-4105-bde9-872cb573d467"
      },
      "source": [
        "nota = int(input('Digite uma nota: '))\n",
        "\n",
        "if nota >= 8:\n",
        "  print('Aprovada satisfatoriamente')\n",
        "else:\n",
        "  print('Não aprovada satisfatoriamente')\n",
        "print('FIM')\n"
      ],
      "execution_count": null,
      "outputs": [
        {
          "output_type": "stream",
          "text": [
            "Digite uma nota: 5\n",
            "Não aprovada satisfatoriamente\n",
            "FIM\n"
          ],
          "name": "stdout"
        }
      ]
    },
    {
      "cell_type": "code",
      "metadata": {
        "colab": {
          "base_uri": "https://localhost:8080/"
        },
        "id": "nJgxLU6o4j94",
        "outputId": "5a02f583-22a6-4bc4-8260-566d7ca732d4"
      },
      "source": [
        "nota = int(input('Digite uma nota: '))\n",
        "\n",
        "if nota >= 8:\n",
        "  print('Aprovada satisfatoriamente')\n",
        "elif nota ==7:\n",
        "  print('Aprovada')\n",
        "else:\n",
        "  print('Não aprovada satisfatoriamente')\n",
        "print('FIM')"
      ],
      "execution_count": null,
      "outputs": [
        {
          "output_type": "stream",
          "text": [
            "Digite uma nota: 7\n",
            "Aprovada\n",
            "FIM\n"
          ],
          "name": "stdout"
        }
      ]
    },
    {
      "cell_type": "markdown",
      "metadata": {
        "id": "vZ0tDBgo6S5F"
      },
      "source": [
        "**JOGO DE ADIVINHAR:** \n",
        "Escreva um programa que faça o computador \"pensar\" em um número inteiro entre 0 e 10 e peça para o usuário tentar descobrir qual foi o número escolhido pelo computador. O programa deverá escrever na tela se o usuário venceu ou perdeu."
      ]
    },
    {
      "cell_type": "code",
      "metadata": {
        "colab": {
          "base_uri": "https://localhost:8080/"
        },
        "id": "rrouFMrr6Cy_",
        "outputId": "06482204-a33c-4e7d-d1a8-7a75956b3dc2"
      },
      "source": [
        "from random import randint\n",
        "computador = randint(0, 10)\n",
        "print('Vamos jogar um jogo! Tente adivinhar o número que eu estou pensando de 0 a 10:')\n",
        "\n",
        "jogador = int(input('Qual número eu pensei? '))\n",
        "\n",
        "if jogador == computador:\n",
        "  print('ACERTOU! VOCÊ VENCEU O JOGO')\n",
        "else:\n",
        "  print('Errou. Você perdeu o jogo!')"
      ],
      "execution_count": null,
      "outputs": [
        {
          "output_type": "stream",
          "text": [
            "Vamos jogar um jogo! Tente adivinhar o número que eu estou pensando de 0 a 10:\n",
            "Qual número eu pensei? 2\n",
            "Errou. Você perdeu o jogo!\n"
          ],
          "name": "stdout"
        }
      ]
    },
    {
      "cell_type": "markdown",
      "metadata": {
        "id": "cGCHsNyP9Ugn"
      },
      "source": [
        "### DESAFIO para as alunas: \n",
        "Desenvolva um programa que pergunte a distância de uma viagem em Km. Calcule o preço da passagem, cobrando 0.60 reais por Km para viagens de até 100Km, cobrando 0.50 reais para viagens de até 300Km  e 0.40 reais para viagens mais longas."
      ]
    },
    {
      "cell_type": "code",
      "metadata": {
        "colab": {
          "base_uri": "https://localhost:8080/"
        },
        "id": "ssUAq9KD9Td7",
        "outputId": "3288258f-895e-4cf8-aa5b-351b3634a950"
      },
      "source": [
        "km = float(input('Qual a distância em km que você deseja pecorrer?' ))\n",
        "\n",
        "if km <= 100:\n",
        "  passagem = km * 0.60\n",
        "  print(f'Sua passagem custará R${passagem} por {km}km pecorridos')\n",
        "if km <=300:\n",
        "  passagem = km * 0.50\n",
        "  print(f'Sua passagem custará R${passagem} por {km}km pecorridos')\n",
        "if km >300:\n",
        "  passagem = km * 0.40\n",
        "  print(f'Sua passagem custará R${passagem} por {km}km pecorridos')"
      ],
      "execution_count": null,
      "outputs": [
        {
          "output_type": "stream",
          "text": [
            "Qual a distância em km que você deseja pecorrer?600\n",
            "Sua passagem custará R$240.0 por 600.0km pecorridos\n"
          ],
          "name": "stdout"
        }
      ]
    },
    {
      "cell_type": "code",
      "metadata": {
        "colab": {
          "base_uri": "https://localhost:8080/"
        },
        "id": "XuuK2tam_HLb",
        "outputId": "2eab57ba-73a3-4dd7-b0c6-aa293150d2cd"
      },
      "source": [
        "km = float(input('Qual a distância em km que você deseja pecorrer?' ))\n",
        "\n",
        "if km <= 100:\n",
        "  passagem = km * 0.60\n",
        " \n",
        "elif km >100 and km <=300:\n",
        "  passagem = km * 0.50\n",
        "  \n",
        "else:\n",
        "  passagem = km * 0.40\n",
        "\n",
        "print(f'Sua passagem custará R${passagem} por {km}km pecorridos.')"
      ],
      "execution_count": null,
      "outputs": [
        {
          "output_type": "stream",
          "text": [
            "Qual a distância em km que você deseja pecorrer?600\n",
            "Sua passagem custará R$240.0 por 600.0km pecorridos\n"
          ],
          "name": "stdout"
        }
      ]
    },
    {
      "cell_type": "markdown",
      "metadata": {
        "id": "UesxScuzBNpD"
      },
      "source": [
        "**CRIANDO O JOGO** Pedra, Papel, Tesoura"
      ]
    },
    {
      "cell_type": "code",
      "metadata": {
        "colab": {
          "base_uri": "https://localhost:8080/"
        },
        "id": "OeIcXxBPBMwk",
        "outputId": "c8d3eb1a-7c6b-48c2-970a-1149e9e12d63"
      },
      "source": [
        "from random import choice\n",
        "\n",
        "jogador = str(input('Escolha entre Pedra, Papel e Tesoura: ')).capitalize()\n",
        "lista = ['Pedra', 'Papel', 'Tesoura']\n",
        "computador = choice(lista)\n",
        "\n",
        "print(f'Você jogou {jogador}.')\n",
        "print(f'O computador jogou {computador}.')\n",
        "\n",
        "if computador == 'Pedra':\n",
        "  if jogador == 'Pedra':\n",
        "    print('Empate.')\n",
        "  elif jogador == 'Papel':\n",
        "    print('Você venceu, parabéns!')\n",
        "  elif jogador == 'Tesoura':\n",
        "    print('A máquina venceu.')\n",
        "\n",
        "if computador == 'Papel':\n",
        "  if jogador == 'Pedra':\n",
        "    print('A máquina perdeu.')\n",
        "  elif jogador == 'Papel':\n",
        "    print('Empate.')\n",
        "  elif jogador == 'Tesoura':\n",
        "    print('Você venceu, parabéns!')\n",
        "\n",
        "if computador == 'Tesoura':\n",
        "  if jogador == 'Pedra':\n",
        "    print('Você venceu, parabéns!')\n",
        "  elif jogador == 'Papel':\n",
        "    print('A máquina venceu.')\n",
        "  elif jogador == 'Tesoura':\n",
        "    print('Empate.')\n",
        "\n",
        "else:\n",
        "  print('Jogada inválida.')\n",
        "  "
      ],
      "execution_count": null,
      "outputs": [
        {
          "output_type": "stream",
          "text": [
            "Escolha entre Pedra, Papel e Tesoura: Papel\n",
            "Você jogou Papel.\n",
            "O computador jogou Tesoura.\n",
            "A máquina venceu.\n"
          ],
          "name": "stdout"
        }
      ]
    },
    {
      "cell_type": "markdown",
      "metadata": {
        "id": "IJKztrNEIB34"
      },
      "source": [
        "## Estruturas de repetição:\n",
        "\n",
        "### **while:** \n",
        "\n",
        "O while é o comando utilizado para programar repetições no Python baseadas na avaliação de uma condição. Enquanto a condição for verdadeira, o bloco de comandos interno ao while é repetido. Quando a condição se torna falsa, o bloco de comandos deixa de repetir.\n",
        "\n",
        "```python\n",
        "while condição:\n",
        "    bloco de comandos\n",
        "```"
      ]
    },
    {
      "cell_type": "code",
      "metadata": {
        "colab": {
          "base_uri": "https://localhost:8080/"
        },
        "id": "2yaaRJD3IGkx",
        "outputId": "b8ceb25c-f189-4dd4-e6ec-faa14f6f0791"
      },
      "source": [
        "lista_pessoas = []\n",
        "nome = str(input('Digite um nome: '))\n",
        "while nome != 'Fim':\n",
        "  lista_pessoas.append(nome)\n",
        "  nome = str(input('Digite um nome: '))\n",
        "print('Nomes digitados: ')\n",
        "print(lista_pessoas)"
      ],
      "execution_count": null,
      "outputs": [
        {
          "output_type": "stream",
          "text": [
            "Digite um nome: Fim\n",
            "Nomes digitados: \n",
            "[]\n"
          ],
          "name": "stdout"
        }
      ]
    },
    {
      "cell_type": "code",
      "metadata": {
        "colab": {
          "base_uri": "https://localhost:8080/"
        },
        "id": "wlrr3RyTJpC0",
        "outputId": "e910b8a2-8e0a-48ba-da8d-e973d08e60a0"
      },
      "source": [
        "lista_pessoa = []\n",
        "cont = 0\n",
        "\n",
        "nome = str(input('Digite um nome: '))\n",
        "while cont < 5:\n",
        "  lista_pessoa.append(nome)\n",
        "  nome = str(input('Digite um nome: '))\n",
        "  cont = cont + 1\n",
        "\n",
        "print('Nomes digitados: ')\n",
        "print(lista_pessoa)"
      ],
      "execution_count": null,
      "outputs": [
        {
          "output_type": "stream",
          "text": [
            "Digite um nome: fernanda\n",
            "Digite um nome: maria\n",
            "Digite um nome: joana\n",
            "Digite um nome: joão\n",
            "Digite um nome: eduardo\n",
            "Digite um nome: vanessa\n",
            "Nomes digitados: \n",
            "['fernanda', 'maria', 'joana', 'joão', 'eduardo']\n"
          ],
          "name": "stdout"
        }
      ]
    },
    {
      "cell_type": "markdown",
      "metadata": {
        "id": "i9CmvwqmKxBN"
      },
      "source": [
        "### **for:**\n",
        "\n",
        "O laço for nos permite percorrer os itens de uma coleção e, para cada um deles, executar o bloco de código declarado no loop."
      ]
    },
    {
      "cell_type": "code",
      "metadata": {
        "colab": {
          "base_uri": "https://localhost:8080/"
        },
        "id": "aA0-JvwAK-1o",
        "outputId": "5ad24d20-b371-4b93-bc39-69d9631d7b5b"
      },
      "source": [
        "lista_numero = [1,2,8,4,15]\n",
        "\n",
        "for num in lista_numero:\n",
        "  print(num)"
      ],
      "execution_count": null,
      "outputs": [
        {
          "output_type": "stream",
          "text": [
            "1\n",
            "2\n",
            "8\n",
            "4\n",
            "15\n"
          ],
          "name": "stdout"
        }
      ]
    },
    {
      "cell_type": "code",
      "metadata": {
        "colab": {
          "base_uri": "https://localhost:8080/"
        },
        "id": "fNH4vmHmLXHn",
        "outputId": "1ecc1469-df57-4a32-de88-439b32b234de"
      },
      "source": [
        "for num in lista_numero:\n",
        "  if num % 2 ==0:\n",
        "    print(f'{num} é par.')\n",
        "  else:\n",
        "    print(f'{num} é ímpar.')"
      ],
      "execution_count": null,
      "outputs": [
        {
          "output_type": "stream",
          "text": [
            "1 é ímpar.\n",
            "2 é par.\n",
            "8 é par.\n",
            "4 é par.\n",
            "15 é ímpar.\n"
          ],
          "name": "stdout"
        }
      ]
    },
    {
      "cell_type": "code",
      "metadata": {
        "colab": {
          "base_uri": "https://localhost:8080/"
        },
        "id": "bjcKMP6jMNjD",
        "outputId": "82cff0f0-5ed7-434e-d7aa-742bbe2b9309"
      },
      "source": [
        "num = int(input('Digite o número que deseja imprimir a tabuada: '))\n",
        "\n",
        "for mult in range(1,11):\n",
        "  print(f'{num} x {mult} = {num*mult}')"
      ],
      "execution_count": null,
      "outputs": [
        {
          "output_type": "stream",
          "text": [
            "Digite o número que deseja imprimir a tabuada: 9\n",
            "9 x 1 = 9\n",
            "9 x 2 = 18\n",
            "9 x 3 = 27\n",
            "9 x 4 = 36\n",
            "9 x 5 = 45\n",
            "9 x 6 = 54\n",
            "9 x 7 = 63\n",
            "9 x 8 = 72\n",
            "9 x 9 = 81\n",
            "9 x 10 = 90\n"
          ],
          "name": "stdout"
        }
      ]
    },
    {
      "cell_type": "markdown",
      "metadata": {
        "id": "knG2IVsRM3Tw"
      },
      "source": [
        "## Funções:\n",
        "Funções são trechos de código que podem ser executados em momentos diferentes de nossos códigos em Python. \n",
        "\n",
        "```python\n",
        "def nome_da_função():\n",
        "  comandos da função\n",
        "```\n",
        "\n",
        "- Que comandos a gente faz constantemente?\n",
        "print(), len(), input(), etc..."
      ]
    },
    {
      "cell_type": "code",
      "metadata": {
        "id": "IBYDzBDwM2nL"
      },
      "source": [
        "def soma(a, b):\n",
        "  s = a + b\n",
        "  print(s)"
      ],
      "execution_count": null,
      "outputs": []
    },
    {
      "cell_type": "code",
      "metadata": {
        "colab": {
          "base_uri": "https://localhost:8080/"
        },
        "id": "IMTVspGUNjgc",
        "outputId": "e59ae54c-8556-44f2-a274-8c358222b2fc"
      },
      "source": [
        "soma(2,4)"
      ],
      "execution_count": null,
      "outputs": [
        {
          "output_type": "stream",
          "text": [
            "6\n"
          ],
          "name": "stdout"
        }
      ]
    },
    {
      "cell_type": "code",
      "metadata": {
        "colab": {
          "base_uri": "https://localhost:8080/"
        },
        "id": "6grMevuENtiL",
        "outputId": "89c52732-0b64-4268-b424-46ce16d5d98c"
      },
      "source": [
        "soma(3,3)"
      ],
      "execution_count": null,
      "outputs": [
        {
          "output_type": "stream",
          "text": [
            "6\n"
          ],
          "name": "stdout"
        }
      ]
    },
    {
      "cell_type": "code",
      "metadata": {
        "colab": {
          "base_uri": "https://localhost:8080/"
        },
        "id": "kM5XghhnNwj4",
        "outputId": "688be463-52ed-4a6e-f398-e38924affde8"
      },
      "source": [
        "soma(10,8)"
      ],
      "execution_count": null,
      "outputs": [
        {
          "output_type": "stream",
          "text": [
            "18\n"
          ],
          "name": "stdout"
        }
      ]
    },
    {
      "cell_type": "markdown",
      "metadata": {
        "id": "HXuQE_jGN95k"
      },
      "source": [
        "### DESAFIO: \n",
        "Faça um programa que tenha uma função chamada area(), que receba as dimensões de um terreno retangular (largura e comprimento) e mostre a área do terreno seguindo o exemplo:\n",
        "- A largura selecionada é de 5m e o comprimento é de 5m, sendo a área: 25m²"
      ]
    },
    {
      "cell_type": "code",
      "metadata": {
        "id": "jt55Qc5QN_5a"
      },
      "source": [
        "def area(altura, largura):\n",
        "  area = altura * largura\n",
        "  print(f'A área do terreno é {area}m².')"
      ],
      "execution_count": null,
      "outputs": []
    },
    {
      "cell_type": "code",
      "metadata": {
        "colab": {
          "base_uri": "https://localhost:8080/"
        },
        "id": "5krgP_huOXei",
        "outputId": "9db3181b-7cdd-4171-90ae-bff11d21259f"
      },
      "source": [
        "area(5,25)"
      ],
      "execution_count": null,
      "outputs": [
        {
          "output_type": "stream",
          "text": [
            "A área do terreno é 125m².\n"
          ],
          "name": "stdout"
        }
      ]
    }
  ]
}