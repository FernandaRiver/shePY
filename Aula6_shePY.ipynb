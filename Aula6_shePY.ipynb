{
  "nbformat": 4,
  "nbformat_minor": 0,
  "metadata": {
    "colab": {
      "name": "Aula6.shePY",
      "provenance": [],
      "authorship_tag": "ABX9TyOv1VBxbc+8IwB9wTdKusGn",
      "include_colab_link": true
    },
    "kernelspec": {
      "name": "python3",
      "display_name": "Python 3"
    },
    "language_info": {
      "name": "python"
    }
  },
  "cells": [
    {
      "cell_type": "markdown",
      "metadata": {
        "id": "view-in-github",
        "colab_type": "text"
      },
      "source": [
        "<a href=\"https://colab.research.google.com/github/fernandarrios/shePY/blob/main/Aula6_shePY.ipynb\" target=\"_parent\"><img src=\"https://colab.research.google.com/assets/colab-badge.svg\" alt=\"Open In Colab\"/></a>"
      ]
    },
    {
      "cell_type": "markdown",
      "metadata": {
        "id": "EB1rbRiHGwpx"
      },
      "source": [
        "# Análise e visualização de dados das eleições dos EUA\n",
        "\n",
        "Dados obtidos no [MIT Election Lab](https://electionlab.mit.edu/data)\n"
      ]
    },
    {
      "cell_type": "code",
      "metadata": {
        "id": "idzwL1QaEewJ"
      },
      "source": [
        "import pandas as pd\n",
        "import plotly.graph_objects as go"
      ],
      "execution_count": 2,
      "outputs": []
    },
    {
      "cell_type": "code",
      "metadata": {
        "id": "V8JfbAj3HiJA"
      },
      "source": [
        "us_df = pd.read_csv('1976-2020-president.csv')"
      ],
      "execution_count": 4,
      "outputs": []
    },
    {
      "cell_type": "code",
      "metadata": {
        "colab": {
          "base_uri": "https://localhost:8080/"
        },
        "id": "3f5-uXGIHwns",
        "outputId": "d4741a5c-9aef-43ac-807a-5c76fa72e03b"
      },
      "source": [
        "us_df.shape #Observando linhas e colunas do df"
      ],
      "execution_count": 5,
      "outputs": [
        {
          "output_type": "execute_result",
          "data": {
            "text/plain": [
              "(4287, 15)"
            ]
          },
          "metadata": {
            "tags": []
          },
          "execution_count": 5
        }
      ]
    },
    {
      "cell_type": "code",
      "metadata": {
        "colab": {
          "base_uri": "https://localhost:8080/",
          "height": 348
        },
        "id": "jIZAzY57Hygu",
        "outputId": "691f965a-2b18-4250-9c0c-c33e06b40024"
      },
      "source": [
        "us_df.head()"
      ],
      "execution_count": 6,
      "outputs": [
        {
          "output_type": "execute_result",
          "data": {
            "text/html": [
              "<div>\n",
              "<style scoped>\n",
              "    .dataframe tbody tr th:only-of-type {\n",
              "        vertical-align: middle;\n",
              "    }\n",
              "\n",
              "    .dataframe tbody tr th {\n",
              "        vertical-align: top;\n",
              "    }\n",
              "\n",
              "    .dataframe thead th {\n",
              "        text-align: right;\n",
              "    }\n",
              "</style>\n",
              "<table border=\"1\" class=\"dataframe\">\n",
              "  <thead>\n",
              "    <tr style=\"text-align: right;\">\n",
              "      <th></th>\n",
              "      <th>year</th>\n",
              "      <th>state</th>\n",
              "      <th>state_po</th>\n",
              "      <th>state_fips</th>\n",
              "      <th>state_cen</th>\n",
              "      <th>state_ic</th>\n",
              "      <th>office</th>\n",
              "      <th>candidate</th>\n",
              "      <th>party_detailed</th>\n",
              "      <th>writein</th>\n",
              "      <th>candidatevotes</th>\n",
              "      <th>totalvotes</th>\n",
              "      <th>version</th>\n",
              "      <th>notes</th>\n",
              "      <th>party_simplified</th>\n",
              "    </tr>\n",
              "  </thead>\n",
              "  <tbody>\n",
              "    <tr>\n",
              "      <th>0</th>\n",
              "      <td>1976</td>\n",
              "      <td>ALABAMA</td>\n",
              "      <td>AL</td>\n",
              "      <td>1</td>\n",
              "      <td>63</td>\n",
              "      <td>41</td>\n",
              "      <td>US PRESIDENT</td>\n",
              "      <td>CARTER, JIMMY</td>\n",
              "      <td>DEMOCRAT</td>\n",
              "      <td>False</td>\n",
              "      <td>659170</td>\n",
              "      <td>1182850</td>\n",
              "      <td>20210113</td>\n",
              "      <td>NaN</td>\n",
              "      <td>DEMOCRAT</td>\n",
              "    </tr>\n",
              "    <tr>\n",
              "      <th>1</th>\n",
              "      <td>1976</td>\n",
              "      <td>ALABAMA</td>\n",
              "      <td>AL</td>\n",
              "      <td>1</td>\n",
              "      <td>63</td>\n",
              "      <td>41</td>\n",
              "      <td>US PRESIDENT</td>\n",
              "      <td>FORD, GERALD</td>\n",
              "      <td>REPUBLICAN</td>\n",
              "      <td>False</td>\n",
              "      <td>504070</td>\n",
              "      <td>1182850</td>\n",
              "      <td>20210113</td>\n",
              "      <td>NaN</td>\n",
              "      <td>REPUBLICAN</td>\n",
              "    </tr>\n",
              "    <tr>\n",
              "      <th>2</th>\n",
              "      <td>1976</td>\n",
              "      <td>ALABAMA</td>\n",
              "      <td>AL</td>\n",
              "      <td>1</td>\n",
              "      <td>63</td>\n",
              "      <td>41</td>\n",
              "      <td>US PRESIDENT</td>\n",
              "      <td>MADDOX, LESTER</td>\n",
              "      <td>AMERICAN INDEPENDENT PARTY</td>\n",
              "      <td>False</td>\n",
              "      <td>9198</td>\n",
              "      <td>1182850</td>\n",
              "      <td>20210113</td>\n",
              "      <td>NaN</td>\n",
              "      <td>OTHER</td>\n",
              "    </tr>\n",
              "    <tr>\n",
              "      <th>3</th>\n",
              "      <td>1976</td>\n",
              "      <td>ALABAMA</td>\n",
              "      <td>AL</td>\n",
              "      <td>1</td>\n",
              "      <td>63</td>\n",
              "      <td>41</td>\n",
              "      <td>US PRESIDENT</td>\n",
              "      <td>BUBAR, BENJAMIN \"\"BEN\"\"</td>\n",
              "      <td>PROHIBITION</td>\n",
              "      <td>False</td>\n",
              "      <td>6669</td>\n",
              "      <td>1182850</td>\n",
              "      <td>20210113</td>\n",
              "      <td>NaN</td>\n",
              "      <td>OTHER</td>\n",
              "    </tr>\n",
              "    <tr>\n",
              "      <th>4</th>\n",
              "      <td>1976</td>\n",
              "      <td>ALABAMA</td>\n",
              "      <td>AL</td>\n",
              "      <td>1</td>\n",
              "      <td>63</td>\n",
              "      <td>41</td>\n",
              "      <td>US PRESIDENT</td>\n",
              "      <td>HALL, GUS</td>\n",
              "      <td>COMMUNIST PARTY USE</td>\n",
              "      <td>False</td>\n",
              "      <td>1954</td>\n",
              "      <td>1182850</td>\n",
              "      <td>20210113</td>\n",
              "      <td>NaN</td>\n",
              "      <td>OTHER</td>\n",
              "    </tr>\n",
              "  </tbody>\n",
              "</table>\n",
              "</div>"
            ],
            "text/plain": [
              "   year    state state_po  ...   version  notes  party_simplified\n",
              "0  1976  ALABAMA       AL  ...  20210113    NaN          DEMOCRAT\n",
              "1  1976  ALABAMA       AL  ...  20210113    NaN        REPUBLICAN\n",
              "2  1976  ALABAMA       AL  ...  20210113    NaN             OTHER\n",
              "3  1976  ALABAMA       AL  ...  20210113    NaN             OTHER\n",
              "4  1976  ALABAMA       AL  ...  20210113    NaN             OTHER\n",
              "\n",
              "[5 rows x 15 columns]"
            ]
          },
          "metadata": {
            "tags": []
          },
          "execution_count": 6
        }
      ]
    },
    {
      "cell_type": "code",
      "metadata": {
        "colab": {
          "base_uri": "https://localhost:8080/"
        },
        "id": "q557Xu_sIYZi",
        "outputId": "44e534d1-11c4-4794-b941-724a978b352e"
      },
      "source": [
        "us_df['year']"
      ],
      "execution_count": 8,
      "outputs": [
        {
          "output_type": "execute_result",
          "data": {
            "text/plain": [
              "0       1976\n",
              "1       1976\n",
              "2       1976\n",
              "3       1976\n",
              "4       1976\n",
              "        ... \n",
              "4282    2020\n",
              "4283    2020\n",
              "4284    2020\n",
              "4285    2020\n",
              "4286    2020\n",
              "Name: year, Length: 4287, dtype: int64"
            ]
          },
          "metadata": {
            "tags": []
          },
          "execution_count": 8
        }
      ]
    },
    {
      "cell_type": "code",
      "metadata": {
        "colab": {
          "base_uri": "https://localhost:8080/",
          "height": 313
        },
        "id": "UfUoh9KLI_ZN",
        "outputId": "800dadf7-1624-41ca-a2d7-7799b9cd1b51"
      },
      "source": [
        "df_sel_year = us_df.query('year == 2008')\n",
        "df_sel_year.head()"
      ],
      "execution_count": 18,
      "outputs": [
        {
          "output_type": "execute_result",
          "data": {
            "text/html": [
              "<div>\n",
              "<style scoped>\n",
              "    .dataframe tbody tr th:only-of-type {\n",
              "        vertical-align: middle;\n",
              "    }\n",
              "\n",
              "    .dataframe tbody tr th {\n",
              "        vertical-align: top;\n",
              "    }\n",
              "\n",
              "    .dataframe thead th {\n",
              "        text-align: right;\n",
              "    }\n",
              "</style>\n",
              "<table border=\"1\" class=\"dataframe\">\n",
              "  <thead>\n",
              "    <tr style=\"text-align: right;\">\n",
              "      <th></th>\n",
              "      <th>year</th>\n",
              "      <th>state</th>\n",
              "      <th>state_po</th>\n",
              "      <th>state_fips</th>\n",
              "      <th>state_cen</th>\n",
              "      <th>state_ic</th>\n",
              "      <th>office</th>\n",
              "      <th>candidate</th>\n",
              "      <th>party_detailed</th>\n",
              "      <th>writein</th>\n",
              "      <th>candidatevotes</th>\n",
              "      <th>totalvotes</th>\n",
              "      <th>version</th>\n",
              "      <th>notes</th>\n",
              "      <th>party_simplified</th>\n",
              "    </tr>\n",
              "  </thead>\n",
              "  <tbody>\n",
              "    <tr>\n",
              "      <th>2728</th>\n",
              "      <td>2008</td>\n",
              "      <td>ALABAMA</td>\n",
              "      <td>AL</td>\n",
              "      <td>1</td>\n",
              "      <td>63</td>\n",
              "      <td>41</td>\n",
              "      <td>US PRESIDENT</td>\n",
              "      <td>MCCAIN, JOHN</td>\n",
              "      <td>REPUBLICAN</td>\n",
              "      <td>False</td>\n",
              "      <td>1266546</td>\n",
              "      <td>2099819</td>\n",
              "      <td>20210113</td>\n",
              "      <td>NaN</td>\n",
              "      <td>REPUBLICAN</td>\n",
              "    </tr>\n",
              "    <tr>\n",
              "      <th>2729</th>\n",
              "      <td>2008</td>\n",
              "      <td>ALABAMA</td>\n",
              "      <td>AL</td>\n",
              "      <td>1</td>\n",
              "      <td>63</td>\n",
              "      <td>41</td>\n",
              "      <td>US PRESIDENT</td>\n",
              "      <td>OBAMA, BARACK H.</td>\n",
              "      <td>DEMOCRAT</td>\n",
              "      <td>False</td>\n",
              "      <td>813479</td>\n",
              "      <td>2099819</td>\n",
              "      <td>20210113</td>\n",
              "      <td>NaN</td>\n",
              "      <td>DEMOCRAT</td>\n",
              "    </tr>\n",
              "    <tr>\n",
              "      <th>2730</th>\n",
              "      <td>2008</td>\n",
              "      <td>ALABAMA</td>\n",
              "      <td>AL</td>\n",
              "      <td>1</td>\n",
              "      <td>63</td>\n",
              "      <td>41</td>\n",
              "      <td>US PRESIDENT</td>\n",
              "      <td>NaN</td>\n",
              "      <td>INDEPENDENT</td>\n",
              "      <td>False</td>\n",
              "      <td>16089</td>\n",
              "      <td>2099819</td>\n",
              "      <td>20210113</td>\n",
              "      <td>NaN</td>\n",
              "      <td>OTHER</td>\n",
              "    </tr>\n",
              "    <tr>\n",
              "      <th>2731</th>\n",
              "      <td>2008</td>\n",
              "      <td>ALABAMA</td>\n",
              "      <td>AL</td>\n",
              "      <td>1</td>\n",
              "      <td>63</td>\n",
              "      <td>41</td>\n",
              "      <td>US PRESIDENT</td>\n",
              "      <td>NaN</td>\n",
              "      <td>NaN</td>\n",
              "      <td>True</td>\n",
              "      <td>3705</td>\n",
              "      <td>2099819</td>\n",
              "      <td>20210113</td>\n",
              "      <td>NaN</td>\n",
              "      <td>OTHER</td>\n",
              "    </tr>\n",
              "    <tr>\n",
              "      <th>2732</th>\n",
              "      <td>2008</td>\n",
              "      <td>ALASKA</td>\n",
              "      <td>AK</td>\n",
              "      <td>2</td>\n",
              "      <td>94</td>\n",
              "      <td>81</td>\n",
              "      <td>US PRESIDENT</td>\n",
              "      <td>MCCAIN, JOHN</td>\n",
              "      <td>REPUBLICAN</td>\n",
              "      <td>False</td>\n",
              "      <td>193841</td>\n",
              "      <td>326197</td>\n",
              "      <td>20210113</td>\n",
              "      <td>NaN</td>\n",
              "      <td>REPUBLICAN</td>\n",
              "    </tr>\n",
              "  </tbody>\n",
              "</table>\n",
              "</div>"
            ],
            "text/plain": [
              "      year    state state_po  ...   version  notes  party_simplified\n",
              "2728  2008  ALABAMA       AL  ...  20210113    NaN        REPUBLICAN\n",
              "2729  2008  ALABAMA       AL  ...  20210113    NaN          DEMOCRAT\n",
              "2730  2008  ALABAMA       AL  ...  20210113    NaN             OTHER\n",
              "2731  2008  ALABAMA       AL  ...  20210113    NaN             OTHER\n",
              "2732  2008   ALASKA       AK  ...  20210113    NaN        REPUBLICAN\n",
              "\n",
              "[5 rows x 15 columns]"
            ]
          },
          "metadata": {
            "tags": []
          },
          "execution_count": 18
        }
      ]
    },
    {
      "cell_type": "code",
      "metadata": {
        "id": "_5DNfMtkJZ2y"
      },
      "source": [
        "df = df_sel_year.sort_values(by=['state', 'candidatevotes']).drop_duplicates(subset=['state'], keep='last')"
      ],
      "execution_count": 14,
      "outputs": []
    },
    {
      "cell_type": "code",
      "metadata": {
        "colab": {
          "base_uri": "https://localhost:8080/",
          "height": 459
        },
        "id": "YpDxHHSQKanL",
        "outputId": "0296450a-ef38-43ba-c714-75ade976f8ba"
      },
      "source": [
        "df.head(8)"
      ],
      "execution_count": 17,
      "outputs": [
        {
          "output_type": "execute_result",
          "data": {
            "text/html": [
              "<div>\n",
              "<style scoped>\n",
              "    .dataframe tbody tr th:only-of-type {\n",
              "        vertical-align: middle;\n",
              "    }\n",
              "\n",
              "    .dataframe tbody tr th {\n",
              "        vertical-align: top;\n",
              "    }\n",
              "\n",
              "    .dataframe thead th {\n",
              "        text-align: right;\n",
              "    }\n",
              "</style>\n",
              "<table border=\"1\" class=\"dataframe\">\n",
              "  <thead>\n",
              "    <tr style=\"text-align: right;\">\n",
              "      <th></th>\n",
              "      <th>year</th>\n",
              "      <th>state</th>\n",
              "      <th>state_po</th>\n",
              "      <th>state_fips</th>\n",
              "      <th>state_cen</th>\n",
              "      <th>state_ic</th>\n",
              "      <th>office</th>\n",
              "      <th>candidate</th>\n",
              "      <th>party_detailed</th>\n",
              "      <th>writein</th>\n",
              "      <th>candidatevotes</th>\n",
              "      <th>totalvotes</th>\n",
              "      <th>version</th>\n",
              "      <th>notes</th>\n",
              "      <th>party_simplified</th>\n",
              "    </tr>\n",
              "  </thead>\n",
              "  <tbody>\n",
              "    <tr>\n",
              "      <th>2728</th>\n",
              "      <td>2008</td>\n",
              "      <td>ALABAMA</td>\n",
              "      <td>AL</td>\n",
              "      <td>1</td>\n",
              "      <td>63</td>\n",
              "      <td>41</td>\n",
              "      <td>US PRESIDENT</td>\n",
              "      <td>MCCAIN, JOHN</td>\n",
              "      <td>REPUBLICAN</td>\n",
              "      <td>False</td>\n",
              "      <td>1266546</td>\n",
              "      <td>2099819</td>\n",
              "      <td>20210113</td>\n",
              "      <td>NaN</td>\n",
              "      <td>REPUBLICAN</td>\n",
              "    </tr>\n",
              "    <tr>\n",
              "      <th>2732</th>\n",
              "      <td>2008</td>\n",
              "      <td>ALASKA</td>\n",
              "      <td>AK</td>\n",
              "      <td>2</td>\n",
              "      <td>94</td>\n",
              "      <td>81</td>\n",
              "      <td>US PRESIDENT</td>\n",
              "      <td>MCCAIN, JOHN</td>\n",
              "      <td>REPUBLICAN</td>\n",
              "      <td>False</td>\n",
              "      <td>193841</td>\n",
              "      <td>326197</td>\n",
              "      <td>20210113</td>\n",
              "      <td>NaN</td>\n",
              "      <td>REPUBLICAN</td>\n",
              "    </tr>\n",
              "    <tr>\n",
              "      <th>2738</th>\n",
              "      <td>2008</td>\n",
              "      <td>ARIZONA</td>\n",
              "      <td>AZ</td>\n",
              "      <td>4</td>\n",
              "      <td>86</td>\n",
              "      <td>61</td>\n",
              "      <td>US PRESIDENT</td>\n",
              "      <td>MCCAIN, JOHN</td>\n",
              "      <td>REPUBLICAN</td>\n",
              "      <td>False</td>\n",
              "      <td>1230111</td>\n",
              "      <td>2293475</td>\n",
              "      <td>20210113</td>\n",
              "      <td>NaN</td>\n",
              "      <td>REPUBLICAN</td>\n",
              "    </tr>\n",
              "    <tr>\n",
              "      <th>2744</th>\n",
              "      <td>2008</td>\n",
              "      <td>ARKANSAS</td>\n",
              "      <td>AR</td>\n",
              "      <td>5</td>\n",
              "      <td>71</td>\n",
              "      <td>42</td>\n",
              "      <td>US PRESIDENT</td>\n",
              "      <td>MCCAIN, JOHN</td>\n",
              "      <td>REPUBLICAN</td>\n",
              "      <td>False</td>\n",
              "      <td>638017</td>\n",
              "      <td>1086617</td>\n",
              "      <td>20210113</td>\n",
              "      <td>NaN</td>\n",
              "      <td>REPUBLICAN</td>\n",
              "    </tr>\n",
              "    <tr>\n",
              "      <th>2751</th>\n",
              "      <td>2008</td>\n",
              "      <td>CALIFORNIA</td>\n",
              "      <td>CA</td>\n",
              "      <td>6</td>\n",
              "      <td>93</td>\n",
              "      <td>71</td>\n",
              "      <td>US PRESIDENT</td>\n",
              "      <td>OBAMA, BARACK H.</td>\n",
              "      <td>DEMOCRAT</td>\n",
              "      <td>False</td>\n",
              "      <td>8274473</td>\n",
              "      <td>13561900</td>\n",
              "      <td>20210113</td>\n",
              "      <td>NaN</td>\n",
              "      <td>DEMOCRAT</td>\n",
              "    </tr>\n",
              "    <tr>\n",
              "      <th>2758</th>\n",
              "      <td>2008</td>\n",
              "      <td>COLORADO</td>\n",
              "      <td>CO</td>\n",
              "      <td>8</td>\n",
              "      <td>84</td>\n",
              "      <td>62</td>\n",
              "      <td>US PRESIDENT</td>\n",
              "      <td>OBAMA, BARACK H.</td>\n",
              "      <td>DEMOCRAT</td>\n",
              "      <td>False</td>\n",
              "      <td>1288576</td>\n",
              "      <td>2401361</td>\n",
              "      <td>20210113</td>\n",
              "      <td>NaN</td>\n",
              "      <td>DEMOCRAT</td>\n",
              "    </tr>\n",
              "    <tr>\n",
              "      <th>2774</th>\n",
              "      <td>2008</td>\n",
              "      <td>CONNECTICUT</td>\n",
              "      <td>CT</td>\n",
              "      <td>9</td>\n",
              "      <td>16</td>\n",
              "      <td>1</td>\n",
              "      <td>US PRESIDENT</td>\n",
              "      <td>OBAMA, BARACK H.</td>\n",
              "      <td>DEMOCRAT</td>\n",
              "      <td>False</td>\n",
              "      <td>997772</td>\n",
              "      <td>1646792</td>\n",
              "      <td>20210113</td>\n",
              "      <td>NaN</td>\n",
              "      <td>DEMOCRAT</td>\n",
              "    </tr>\n",
              "    <tr>\n",
              "      <th>2778</th>\n",
              "      <td>2008</td>\n",
              "      <td>DELAWARE</td>\n",
              "      <td>DE</td>\n",
              "      <td>10</td>\n",
              "      <td>51</td>\n",
              "      <td>11</td>\n",
              "      <td>US PRESIDENT</td>\n",
              "      <td>OBAMA, BARACK H.</td>\n",
              "      <td>DEMOCRAT</td>\n",
              "      <td>False</td>\n",
              "      <td>255459</td>\n",
              "      <td>412412</td>\n",
              "      <td>20210113</td>\n",
              "      <td>NaN</td>\n",
              "      <td>DEMOCRAT</td>\n",
              "    </tr>\n",
              "  </tbody>\n",
              "</table>\n",
              "</div>"
            ],
            "text/plain": [
              "      year        state state_po  ...   version  notes  party_simplified\n",
              "2728  2008      ALABAMA       AL  ...  20210113    NaN        REPUBLICAN\n",
              "2732  2008       ALASKA       AK  ...  20210113    NaN        REPUBLICAN\n",
              "2738  2008      ARIZONA       AZ  ...  20210113    NaN        REPUBLICAN\n",
              "2744  2008     ARKANSAS       AR  ...  20210113    NaN        REPUBLICAN\n",
              "2751  2008   CALIFORNIA       CA  ...  20210113    NaN          DEMOCRAT\n",
              "2758  2008     COLORADO       CO  ...  20210113    NaN          DEMOCRAT\n",
              "2774  2008  CONNECTICUT       CT  ...  20210113    NaN          DEMOCRAT\n",
              "2778  2008     DELAWARE       DE  ...  20210113    NaN          DEMOCRAT\n",
              "\n",
              "[8 rows x 15 columns]"
            ]
          },
          "metadata": {
            "tags": []
          },
          "execution_count": 17
        }
      ]
    },
    {
      "cell_type": "code",
      "metadata": {
        "id": "S8gdJv1-Ho4S"
      },
      "source": [
        "df['party_detailed'] = df['party_detailed'].astype('category')"
      ],
      "execution_count": 19,
      "outputs": []
    },
    {
      "cell_type": "code",
      "metadata": {
        "colab": {
          "base_uri": "https://localhost:8080/"
        },
        "id": "7Pq4XycLMZbi",
        "outputId": "0741c491-bde0-41a1-8662-188966d88c67"
      },
      "source": [
        "df.info()"
      ],
      "execution_count": 21,
      "outputs": [
        {
          "output_type": "stream",
          "text": [
            "<class 'pandas.core.frame.DataFrame'>\n",
            "Int64Index: 51 entries, 2728 to 3073\n",
            "Data columns (total 15 columns):\n",
            " #   Column            Non-Null Count  Dtype   \n",
            "---  ------            --------------  -----   \n",
            " 0   year              51 non-null     int64   \n",
            " 1   state             51 non-null     object  \n",
            " 2   state_po          51 non-null     object  \n",
            " 3   state_fips        51 non-null     int64   \n",
            " 4   state_cen         51 non-null     int64   \n",
            " 5   state_ic          51 non-null     int64   \n",
            " 6   office            51 non-null     object  \n",
            " 7   candidate         51 non-null     object  \n",
            " 8   party_detailed    51 non-null     category\n",
            " 9   writein           51 non-null     object  \n",
            " 10  candidatevotes    51 non-null     int64   \n",
            " 11  totalvotes        51 non-null     int64   \n",
            " 12  version           51 non-null     int64   \n",
            " 13  notes             0 non-null      float64 \n",
            " 14  party_simplified  51 non-null     object  \n",
            "dtypes: category(1), float64(1), int64(7), object(6)\n",
            "memory usage: 6.1+ KB\n"
          ],
          "name": "stdout"
        }
      ]
    },
    {
      "cell_type": "code",
      "metadata": {
        "colab": {
          "base_uri": "https://localhost:8080/",
          "height": 542
        },
        "id": "tQxAjKEuN75s",
        "outputId": "b163e838-f1f3-48b6-cc91-ddf28aabe652"
      },
      "source": [
        "fig = go.Figure(data=go.Choropleth(\n",
        "    locations=df['state_po'], #Spatial coordinates\n",
        "    z = df['party_detailed'].cat.codes, #Data to be color-coded\n",
        "    locationmode = 'USA-states', #Set of locations match entries in `locations`\n",
        "    colorscale = [[0.0, 'rgb(0, 0, 200)'], [1.0, 'rgb(200, 0, 0)']],\n",
        "    colorbar_title = 'Candidato vencedor',\n",
        "    text = df['candidate']\n",
        "))\n",
        "\n",
        "fig.update_layout(\n",
        "    title_text= 'Eleições para presidente dos EUA - 2008',\n",
        "    geo_scope = 'usa'  #Limite map scope to USA\n",
        ")\n",
        "\n",
        "fig.show()"
      ],
      "execution_count": 29,
      "outputs": [
        {
          "output_type": "display_data",
          "data": {
            "text/html": [
              "<html>\n",
              "<head><meta charset=\"utf-8\" /></head>\n",
              "<body>\n",
              "    <div>\n",
              "            <script src=\"https://cdnjs.cloudflare.com/ajax/libs/mathjax/2.7.5/MathJax.js?config=TeX-AMS-MML_SVG\"></script><script type=\"text/javascript\">if (window.MathJax) {MathJax.Hub.Config({SVG: {font: \"STIX-Web\"}});}</script>\n",
              "                <script type=\"text/javascript\">window.PlotlyConfig = {MathJaxConfig: 'local'};</script>\n",
              "        <script src=\"https://cdn.plot.ly/plotly-latest.min.js\"></script>    \n",
              "            <div id=\"34273313-08d3-433a-ae25-88de0f69cf7b\" class=\"plotly-graph-div\" style=\"height:525px; width:100%;\"></div>\n",
              "            <script type=\"text/javascript\">\n",
              "                \n",
              "                    window.PLOTLYENV=window.PLOTLYENV || {};\n",
              "                    \n",
              "                if (document.getElementById(\"34273313-08d3-433a-ae25-88de0f69cf7b\")) {\n",
              "                    Plotly.newPlot(\n",
              "                        '34273313-08d3-433a-ae25-88de0f69cf7b',\n",
              "                        [{\"colorbar\": {\"title\": {\"text\": \"Candidato vencedor\"}}, \"colorscale\": [[0.0, \"rgb(0, 0, 200)\"], [1.0, \"rgb(200, 0, 0)\"]], \"locationmode\": \"USA-states\", \"locations\": [\"AL\", \"AK\", \"AZ\", \"AR\", \"CA\", \"CO\", \"CT\", \"DE\", \"DC\", \"FL\", \"GA\", \"HI\", \"ID\", \"IL\", \"IN\", \"IA\", \"KS\", \"KY\", \"LA\", \"ME\", \"MD\", \"MA\", \"MI\", \"MN\", \"MS\", \"MO\", \"MT\", \"NE\", \"NV\", \"NH\", \"NJ\", \"NM\", \"NY\", \"NC\", \"ND\", \"OH\", \"OK\", \"OR\", \"PA\", \"RI\", \"SC\", \"SD\", \"TN\", \"TX\", \"UT\", \"VT\", \"VA\", \"WA\", \"WV\", \"WI\", \"WY\"], \"text\": [\"MCCAIN, JOHN\", \"MCCAIN, JOHN\", \"MCCAIN, JOHN\", \"MCCAIN, JOHN\", \"OBAMA, BARACK H.\", \"OBAMA, BARACK H.\", \"OBAMA, BARACK H.\", \"OBAMA, BARACK H.\", \"OBAMA, BARACK H.\", \"OBAMA, BARACK H.\", \"MCCAIN, JOHN\", \"OBAMA, BARACK H.\", \"MCCAIN, JOHN\", \"OBAMA, BARACK H.\", \"OBAMA, BARACK H.\", \"OBAMA, BARACK H.\", \"MCCAIN, JOHN\", \"MCCAIN, JOHN\", \"MCCAIN, JOHN\", \"OBAMA, BARACK H.\", \"OBAMA, BARACK H.\", \"OBAMA, BARACK H.\", \"OBAMA, BARACK H.\", \"OBAMA, BARACK H.\", \"MCCAIN, JOHN\", \"MCCAIN, JOHN\", \"MCCAIN, JOHN\", \"MCCAIN, JOHN\", \"OBAMA, BARACK H.\", \"OBAMA, BARACK H.\", \"OBAMA, BARACK H.\", \"OBAMA, BARACK H.\", \"OBAMA, BARACK H.\", \"OBAMA, BARACK H.\", \"MCCAIN, JOHN\", \"OBAMA, BARACK H.\", \"MCCAIN, JOHN\", \"OBAMA, BARACK H.\", \"OBAMA, BARACK H.\", \"OBAMA, BARACK H.\", \"MCCAIN, JOHN\", \"MCCAIN, JOHN\", \"MCCAIN, JOHN\", \"MCCAIN, JOHN\", \"MCCAIN, JOHN\", \"OBAMA, BARACK H.\", \"OBAMA, BARACK H.\", \"OBAMA, BARACK H.\", \"MCCAIN, JOHN\", \"OBAMA, BARACK H.\", \"MCCAIN, JOHN\"], \"type\": \"choropleth\", \"z\": [1, 1, 1, 1, 0, 0, 0, 0, 0, 0, 1, 0, 1, 0, 0, 0, 1, 1, 1, 0, 0, 0, 0, 0, 1, 1, 1, 1, 0, 0, 0, 0, 0, 0, 1, 0, 1, 0, 0, 0, 1, 1, 1, 1, 1, 0, 0, 0, 1, 0, 1]}],\n",
              "                        {\"geo\": {\"scope\": \"usa\"}, \"template\": {\"data\": {\"bar\": [{\"error_x\": {\"color\": \"#2a3f5f\"}, \"error_y\": {\"color\": \"#2a3f5f\"}, \"marker\": {\"line\": {\"color\": \"#E5ECF6\", \"width\": 0.5}}, \"type\": \"bar\"}], \"barpolar\": [{\"marker\": {\"line\": {\"color\": \"#E5ECF6\", \"width\": 0.5}}, \"type\": \"barpolar\"}], \"carpet\": [{\"aaxis\": {\"endlinecolor\": \"#2a3f5f\", \"gridcolor\": \"white\", \"linecolor\": \"white\", \"minorgridcolor\": \"white\", \"startlinecolor\": \"#2a3f5f\"}, \"baxis\": {\"endlinecolor\": \"#2a3f5f\", \"gridcolor\": \"white\", \"linecolor\": \"white\", \"minorgridcolor\": \"white\", \"startlinecolor\": \"#2a3f5f\"}, \"type\": \"carpet\"}], \"choropleth\": [{\"colorbar\": {\"outlinewidth\": 0, \"ticks\": \"\"}, \"type\": \"choropleth\"}], \"contour\": [{\"colorbar\": {\"outlinewidth\": 0, \"ticks\": \"\"}, \"colorscale\": [[0.0, \"#0d0887\"], [0.1111111111111111, \"#46039f\"], [0.2222222222222222, \"#7201a8\"], [0.3333333333333333, \"#9c179e\"], [0.4444444444444444, \"#bd3786\"], [0.5555555555555556, \"#d8576b\"], [0.6666666666666666, \"#ed7953\"], [0.7777777777777778, \"#fb9f3a\"], [0.8888888888888888, \"#fdca26\"], [1.0, \"#f0f921\"]], \"type\": \"contour\"}], \"contourcarpet\": [{\"colorbar\": {\"outlinewidth\": 0, \"ticks\": \"\"}, \"type\": \"contourcarpet\"}], \"heatmap\": [{\"colorbar\": {\"outlinewidth\": 0, \"ticks\": \"\"}, \"colorscale\": [[0.0, \"#0d0887\"], [0.1111111111111111, \"#46039f\"], [0.2222222222222222, \"#7201a8\"], [0.3333333333333333, \"#9c179e\"], [0.4444444444444444, \"#bd3786\"], [0.5555555555555556, \"#d8576b\"], [0.6666666666666666, \"#ed7953\"], [0.7777777777777778, \"#fb9f3a\"], [0.8888888888888888, \"#fdca26\"], [1.0, \"#f0f921\"]], \"type\": \"heatmap\"}], \"heatmapgl\": [{\"colorbar\": {\"outlinewidth\": 0, \"ticks\": \"\"}, \"colorscale\": [[0.0, \"#0d0887\"], [0.1111111111111111, \"#46039f\"], [0.2222222222222222, \"#7201a8\"], [0.3333333333333333, \"#9c179e\"], [0.4444444444444444, \"#bd3786\"], [0.5555555555555556, \"#d8576b\"], [0.6666666666666666, \"#ed7953\"], [0.7777777777777778, \"#fb9f3a\"], [0.8888888888888888, \"#fdca26\"], [1.0, \"#f0f921\"]], \"type\": \"heatmapgl\"}], \"histogram\": [{\"marker\": {\"colorbar\": {\"outlinewidth\": 0, \"ticks\": \"\"}}, \"type\": \"histogram\"}], \"histogram2d\": [{\"colorbar\": {\"outlinewidth\": 0, \"ticks\": \"\"}, \"colorscale\": [[0.0, \"#0d0887\"], [0.1111111111111111, \"#46039f\"], [0.2222222222222222, \"#7201a8\"], [0.3333333333333333, \"#9c179e\"], [0.4444444444444444, \"#bd3786\"], [0.5555555555555556, \"#d8576b\"], [0.6666666666666666, \"#ed7953\"], [0.7777777777777778, \"#fb9f3a\"], [0.8888888888888888, \"#fdca26\"], [1.0, \"#f0f921\"]], \"type\": \"histogram2d\"}], \"histogram2dcontour\": [{\"colorbar\": {\"outlinewidth\": 0, \"ticks\": \"\"}, \"colorscale\": [[0.0, \"#0d0887\"], [0.1111111111111111, \"#46039f\"], [0.2222222222222222, \"#7201a8\"], [0.3333333333333333, \"#9c179e\"], [0.4444444444444444, \"#bd3786\"], [0.5555555555555556, \"#d8576b\"], [0.6666666666666666, \"#ed7953\"], [0.7777777777777778, \"#fb9f3a\"], [0.8888888888888888, \"#fdca26\"], [1.0, \"#f0f921\"]], \"type\": \"histogram2dcontour\"}], \"mesh3d\": [{\"colorbar\": {\"outlinewidth\": 0, \"ticks\": \"\"}, \"type\": \"mesh3d\"}], \"parcoords\": [{\"line\": {\"colorbar\": {\"outlinewidth\": 0, \"ticks\": \"\"}}, \"type\": \"parcoords\"}], \"pie\": [{\"automargin\": true, \"type\": \"pie\"}], \"scatter\": [{\"marker\": {\"colorbar\": {\"outlinewidth\": 0, \"ticks\": \"\"}}, \"type\": \"scatter\"}], \"scatter3d\": [{\"line\": {\"colorbar\": {\"outlinewidth\": 0, \"ticks\": \"\"}}, \"marker\": {\"colorbar\": {\"outlinewidth\": 0, \"ticks\": \"\"}}, \"type\": \"scatter3d\"}], \"scattercarpet\": [{\"marker\": {\"colorbar\": {\"outlinewidth\": 0, \"ticks\": \"\"}}, \"type\": \"scattercarpet\"}], \"scattergeo\": [{\"marker\": {\"colorbar\": {\"outlinewidth\": 0, \"ticks\": \"\"}}, \"type\": \"scattergeo\"}], \"scattergl\": [{\"marker\": {\"colorbar\": {\"outlinewidth\": 0, \"ticks\": \"\"}}, \"type\": \"scattergl\"}], \"scattermapbox\": [{\"marker\": {\"colorbar\": {\"outlinewidth\": 0, \"ticks\": \"\"}}, \"type\": \"scattermapbox\"}], \"scatterpolar\": [{\"marker\": {\"colorbar\": {\"outlinewidth\": 0, \"ticks\": \"\"}}, \"type\": \"scatterpolar\"}], \"scatterpolargl\": [{\"marker\": {\"colorbar\": {\"outlinewidth\": 0, \"ticks\": \"\"}}, \"type\": \"scatterpolargl\"}], \"scatterternary\": [{\"marker\": {\"colorbar\": {\"outlinewidth\": 0, \"ticks\": \"\"}}, \"type\": \"scatterternary\"}], \"surface\": [{\"colorbar\": {\"outlinewidth\": 0, \"ticks\": \"\"}, \"colorscale\": [[0.0, \"#0d0887\"], [0.1111111111111111, \"#46039f\"], [0.2222222222222222, \"#7201a8\"], [0.3333333333333333, \"#9c179e\"], [0.4444444444444444, \"#bd3786\"], [0.5555555555555556, \"#d8576b\"], [0.6666666666666666, \"#ed7953\"], [0.7777777777777778, \"#fb9f3a\"], [0.8888888888888888, \"#fdca26\"], [1.0, \"#f0f921\"]], \"type\": \"surface\"}], \"table\": [{\"cells\": {\"fill\": {\"color\": \"#EBF0F8\"}, \"line\": {\"color\": \"white\"}}, \"header\": {\"fill\": {\"color\": \"#C8D4E3\"}, \"line\": {\"color\": \"white\"}}, \"type\": \"table\"}]}, \"layout\": {\"annotationdefaults\": {\"arrowcolor\": \"#2a3f5f\", \"arrowhead\": 0, \"arrowwidth\": 1}, \"coloraxis\": {\"colorbar\": {\"outlinewidth\": 0, \"ticks\": \"\"}}, \"colorscale\": {\"diverging\": [[0, \"#8e0152\"], [0.1, \"#c51b7d\"], [0.2, \"#de77ae\"], [0.3, \"#f1b6da\"], [0.4, \"#fde0ef\"], [0.5, \"#f7f7f7\"], [0.6, \"#e6f5d0\"], [0.7, \"#b8e186\"], [0.8, \"#7fbc41\"], [0.9, \"#4d9221\"], [1, \"#276419\"]], \"sequential\": [[0.0, \"#0d0887\"], [0.1111111111111111, \"#46039f\"], [0.2222222222222222, \"#7201a8\"], [0.3333333333333333, \"#9c179e\"], [0.4444444444444444, \"#bd3786\"], [0.5555555555555556, \"#d8576b\"], [0.6666666666666666, \"#ed7953\"], [0.7777777777777778, \"#fb9f3a\"], [0.8888888888888888, \"#fdca26\"], [1.0, \"#f0f921\"]], \"sequentialminus\": [[0.0, \"#0d0887\"], [0.1111111111111111, \"#46039f\"], [0.2222222222222222, \"#7201a8\"], [0.3333333333333333, \"#9c179e\"], [0.4444444444444444, \"#bd3786\"], [0.5555555555555556, \"#d8576b\"], [0.6666666666666666, \"#ed7953\"], [0.7777777777777778, \"#fb9f3a\"], [0.8888888888888888, \"#fdca26\"], [1.0, \"#f0f921\"]]}, \"colorway\": [\"#636efa\", \"#EF553B\", \"#00cc96\", \"#ab63fa\", \"#FFA15A\", \"#19d3f3\", \"#FF6692\", \"#B6E880\", \"#FF97FF\", \"#FECB52\"], \"font\": {\"color\": \"#2a3f5f\"}, \"geo\": {\"bgcolor\": \"white\", \"lakecolor\": \"white\", \"landcolor\": \"#E5ECF6\", \"showlakes\": true, \"showland\": true, \"subunitcolor\": \"white\"}, \"hoverlabel\": {\"align\": \"left\"}, \"hovermode\": \"closest\", \"mapbox\": {\"style\": \"light\"}, \"paper_bgcolor\": \"white\", \"plot_bgcolor\": \"#E5ECF6\", \"polar\": {\"angularaxis\": {\"gridcolor\": \"white\", \"linecolor\": \"white\", \"ticks\": \"\"}, \"bgcolor\": \"#E5ECF6\", \"radialaxis\": {\"gridcolor\": \"white\", \"linecolor\": \"white\", \"ticks\": \"\"}}, \"scene\": {\"xaxis\": {\"backgroundcolor\": \"#E5ECF6\", \"gridcolor\": \"white\", \"gridwidth\": 2, \"linecolor\": \"white\", \"showbackground\": true, \"ticks\": \"\", \"zerolinecolor\": \"white\"}, \"yaxis\": {\"backgroundcolor\": \"#E5ECF6\", \"gridcolor\": \"white\", \"gridwidth\": 2, \"linecolor\": \"white\", \"showbackground\": true, \"ticks\": \"\", \"zerolinecolor\": \"white\"}, \"zaxis\": {\"backgroundcolor\": \"#E5ECF6\", \"gridcolor\": \"white\", \"gridwidth\": 2, \"linecolor\": \"white\", \"showbackground\": true, \"ticks\": \"\", \"zerolinecolor\": \"white\"}}, \"shapedefaults\": {\"line\": {\"color\": \"#2a3f5f\"}}, \"ternary\": {\"aaxis\": {\"gridcolor\": \"white\", \"linecolor\": \"white\", \"ticks\": \"\"}, \"baxis\": {\"gridcolor\": \"white\", \"linecolor\": \"white\", \"ticks\": \"\"}, \"bgcolor\": \"#E5ECF6\", \"caxis\": {\"gridcolor\": \"white\", \"linecolor\": \"white\", \"ticks\": \"\"}}, \"title\": {\"x\": 0.05}, \"xaxis\": {\"automargin\": true, \"gridcolor\": \"white\", \"linecolor\": \"white\", \"ticks\": \"\", \"title\": {\"standoff\": 15}, \"zerolinecolor\": \"white\", \"zerolinewidth\": 2}, \"yaxis\": {\"automargin\": true, \"gridcolor\": \"white\", \"linecolor\": \"white\", \"ticks\": \"\", \"title\": {\"standoff\": 15}, \"zerolinecolor\": \"white\", \"zerolinewidth\": 2}}}, \"title\": {\"text\": \"Elei\\u00e7\\u00f5es para presidente dos EUA - 2008\"}},\n",
              "                        {\"responsive\": true}\n",
              "                    ).then(function(){\n",
              "                            \n",
              "var gd = document.getElementById('34273313-08d3-433a-ae25-88de0f69cf7b');\n",
              "var x = new MutationObserver(function (mutations, observer) {{\n",
              "        var display = window.getComputedStyle(gd).display;\n",
              "        if (!display || display === 'none') {{\n",
              "            console.log([gd, 'removed!']);\n",
              "            Plotly.purge(gd);\n",
              "            observer.disconnect();\n",
              "        }}\n",
              "}});\n",
              "\n",
              "// Listen for the removal of the full notebook cells\n",
              "var notebookContainer = gd.closest('#notebook-container');\n",
              "if (notebookContainer) {{\n",
              "    x.observe(notebookContainer, {childList: true});\n",
              "}}\n",
              "\n",
              "// Listen for the clearing of the current output cell\n",
              "var outputEl = gd.closest('.output');\n",
              "if (outputEl) {{\n",
              "    x.observe(outputEl, {childList: true});\n",
              "}}\n",
              "\n",
              "                        })\n",
              "                };\n",
              "                \n",
              "            </script>\n",
              "        </div>\n",
              "</body>\n",
              "</html>"
            ]
          },
          "metadata": {
            "tags": []
          }
        }
      ]
    }
  ]
}