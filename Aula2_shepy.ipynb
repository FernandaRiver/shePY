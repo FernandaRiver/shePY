{
  "nbformat": 4,
  "nbformat_minor": 0,
  "metadata": {
    "colab": {
      "name": "Aula2.shepy",
      "provenance": [],
      "authorship_tag": "ABX9TyNZoZsjuVtATAYjbc8qN3wr",
      "include_colab_link": true
    },
    "kernelspec": {
      "name": "python3",
      "display_name": "Python 3"
    },
    "language_info": {
      "name": "python"
    }
  },
  "cells": [
    {
      "cell_type": "markdown",
      "metadata": {
        "id": "view-in-github",
        "colab_type": "text"
      },
      "source": [
        "<a href=\"https://colab.research.google.com/github/fernandarrios/shePY/blob/main/Aula2_shepy.ipynb\" target=\"_parent\"><img src=\"https://colab.research.google.com/assets/colab-badge.svg\" alt=\"Open In Colab\"/></a>"
      ]
    },
    {
      "cell_type": "markdown",
      "metadata": {
        "id": "afXW63on_UoQ"
      },
      "source": [
        "###Aula 2 - shePY\n",
        "\n",
        "Hoje iremos trabalhar conceitos de strings, listas, tuplas e dicionários em python. Além disso, nós iremos entender como importar módulos e bibliotecas."
      ]
    },
    {
      "cell_type": "markdown",
      "metadata": {
        "id": "pUPMhVmS_rNx"
      },
      "source": [
        "##Utilizando módulos\n",
        "\n",
        "Uma biblioteca é um conjunto de módulos, e módulos são programas que podem ser reaproveitados em outros programas.\n",
        "\n",
        "- Há diversos módulos de python que fazem parte da biblioteca padrão.\n",
        "- Se eu precisar de algumas funcionalidades que as funões básicas não estão conseguindo realizar na aplicação que eu estou consstruindo, eu irei precisar algumas funcionalidades de fora.\n",
        "- Exemplo de biblioteca padrão do python: [**math**](https://docs.python.org/pt-br/3/library/math.html)\n",
        "\n",
        "Algumas funcionalidades:\n",
        "- cell: arredondar o valor para cima\n",
        "- floor: arredondar o valor para baixo\n",
        "- sqrt: retorna a raiz quadrada\n",
        "- pow: potenciação.\n"
      ]
    },
    {
      "cell_type": "markdown",
      "metadata": {
        "id": "-6-w1PEyNrnn"
      },
      "source": [
        "Exemplo:\n",
        "biblioteca: todas as bebidas do mercado\n",
        "\n",
        "import bebidas\n",
        "from bebidas import refrigerante\n",
        "\n",
        "Até a forma como você vai referenciar muda um pouco dependendo da forma como vc utiliza esses comandos. Comando utilizando from economiza um pouco mais a memória."
      ]
    },
    {
      "cell_type": "code",
      "metadata": {
        "colab": {
          "base_uri": "https://localhost:8080/"
        },
        "id": "R3IGQ0zF-6WV",
        "outputId": "e127c3ae-7d55-4ab0-dabf-a6c7af388e31"
      },
      "source": [
        "raiz = 9**(1/2)\n",
        "print(raiz)"
      ],
      "execution_count": null,
      "outputs": [
        {
          "output_type": "stream",
          "text": [
            "3.0\n"
          ],
          "name": "stdout"
        }
      ]
    },
    {
      "cell_type": "markdown",
      "metadata": {
        "id": "d_wEysB8OI9p"
      },
      "source": [
        "Se eu quiser utilizar várias funcionalidades, talvez compense importar tudo com o comando **import**:"
      ]
    },
    {
      "cell_type": "code",
      "metadata": {
        "colab": {
          "base_uri": "https://localhost:8080/"
        },
        "id": "OFrCX7tXBjzy",
        "outputId": "c0b077f1-96ff-4706-e91f-77bfbb1d8e77"
      },
      "source": [
        "import math  #importanto a lib inteira\n",
        "raiz = math.sqrt(9)\n",
        "print(raiz)\n"
      ],
      "execution_count": null,
      "outputs": [
        {
          "output_type": "stream",
          "text": [
            "3.0\n"
          ],
          "name": "stdout"
        }
      ]
    },
    {
      "cell_type": "markdown",
      "metadata": {
        "id": "zQ-julW7OMtc"
      },
      "source": [
        "Ou nesse caso, para economizar memória, poderia importar apenas sqrt e pow.."
      ]
    },
    {
      "cell_type": "code",
      "metadata": {
        "colab": {
          "base_uri": "https://localhost:8080/"
        },
        "id": "OrTAlLM9Cl5U",
        "outputId": "25243142-d3ae-4515-fefe-8c00db50256a"
      },
      "source": [
        "from math import sqrt  #importando apenas a funcionalidade raiz quadrada\n",
        "raiz = sqrt(9)\n",
        "print(raiz)"
      ],
      "execution_count": null,
      "outputs": [
        {
          "output_type": "stream",
          "text": [
            "3.0\n"
          ],
          "name": "stdout"
        }
      ]
    },
    {
      "cell_type": "code",
      "metadata": {
        "id": "REZwnpRiF9TT"
      },
      "source": [
        "from math import pow"
      ],
      "execution_count": null,
      "outputs": []
    },
    {
      "cell_type": "code",
      "metadata": {
        "colab": {
          "base_uri": "https://localhost:8080/"
        },
        "id": "rRWHoUcbD-3-",
        "outputId": "6d799268-8132-41cc-ac9a-28d299cd30c9"
      },
      "source": [
        "number = float(input('Digite um número: '))\n",
        "raiz = sqrt(number)\n",
        "potencia = pow(number,2)\n",
        "print(f'A raiz quadrada de {number} é {raiz} e ao elevarmos por 2, o resultado é {potencia}')"
      ],
      "execution_count": null,
      "outputs": [
        {
          "output_type": "stream",
          "text": [
            "Digite um número: 81\n",
            "A raiz quadrada de 81.0 é 9.0 e ao elevarmos por 2, o resultado é 6561.0\n"
          ],
          "name": "stdout"
        }
      ]
    },
    {
      "cell_type": "markdown",
      "metadata": {
        "id": "ojVhorw4D3Gw"
      },
      "source": [
        "OBS: Toda vez que uma linha for executada, ele é numerada. Mas quando você sair do colab essas numerações serão resetadas e você terá que executar de novo."
      ]
    },
    {
      "cell_type": "markdown",
      "metadata": {
        "id": "eqkEi8uFHHu4"
      },
      "source": [
        "###Módulo random\n",
        "Doc: [Random](https://https://docs.python.org/pt-br/3/library/random.html)\n"
      ]
    },
    {
      "cell_type": "markdown",
      "metadata": {
        "id": "Bf9RxOsoHOhu"
      },
      "source": [
        "Exercício 1: faça um programa que ajude uma professora escolher qual será a primeira aluna a apresentar seu trabalho."
      ]
    },
    {
      "cell_type": "code",
      "metadata": {
        "colab": {
          "base_uri": "https://localhost:8080/"
        },
        "id": "HzvzaaELF_xx",
        "outputId": "8b5847f3-d91e-480a-e661-b97a0acc7af3"
      },
      "source": [
        "import random \n",
        "aluno1 = str(input('Primeira aluna: '))\n",
        "aluno2 = str(input('Segunda aluna: '))\n",
        "aluno3 = str(input('Terceira aluna: '))\n",
        "aluno4 = str(input('Quarta aluna: '))\n",
        "lista_aluna =[aluno1, aluno2, aluno3, aluno4]\n",
        "escolhida = random.choice(lista_aluna)\n",
        "print(f'A aluna escolhida foi {escolhida}')"
      ],
      "execution_count": null,
      "outputs": [
        {
          "output_type": "stream",
          "text": [
            "Primeira aluna: eduarda\n",
            "Segunda aluna: meire\n",
            "Terceira aluna: rosimeire\n",
            "Quarta aluna: valéria\n",
            "A aluna escolhida foi valéria\n"
          ],
          "name": "stdout"
        }
      ]
    },
    {
      "cell_type": "code",
      "metadata": {
        "colab": {
          "base_uri": "https://localhost:8080/"
        },
        "id": "Bcoyt5J2JM7d",
        "outputId": "53b72250-990e-47b6-9624-c76983023b0b"
      },
      "source": [
        "import random\n",
        "lista_aluno = ['joaquim', 'josé', 'mariana', 'maria']\n",
        "escolhida = random.choice(lista_aluno)\n",
        "print(f'O aluno escolhido foi {escolhida}')"
      ],
      "execution_count": null,
      "outputs": [
        {
          "output_type": "stream",
          "text": [
            "O aluno escolhido foi joaquim\n"
          ],
          "name": "stdout"
        }
      ]
    },
    {
      "cell_type": "markdown",
      "metadata": {
        "id": "Um9tY0qlJ0w4"
      },
      "source": [
        "###Utilizamos listras nos exercícios nos exercícios anteriores, mas o que são listas?\n",
        "\n",
        "Lista é uma coleção de elementos(de tamanho dinâmico).\n",
        "\n",
        " Cada elemento possui uma posição dentro de uma lista. Essa posição é chamada de index. O primeiro elemento está armazenado no índice 0 e o último elemento no índice(n-1)."
      ]
    },
    {
      "cell_type": "markdown",
      "metadata": {
        "id": "tlsLQA9BK3ky"
      },
      "source": [
        "**Criando listas**"
      ]
    },
    {
      "cell_type": "code",
      "metadata": {
        "id": "IyuqEVw8K7G3"
      },
      "source": [
        "lista_reais = [1.5, 1.4, 1.8, 1.9]\n",
        "lista_Strings = ['R', 'Python','Javascript']\n",
        "lista_booleanos = [True, False, True, False]\n",
        "lista_misturada = [1,2, 'teste', True]\n"
      ],
      "execution_count": 2,
      "outputs": []
    },
    {
      "cell_type": "code",
      "metadata": {
        "colab": {
          "base_uri": "https://localhost:8080/"
        },
        "id": "hMzueGajLn52",
        "outputId": "b25828f6-385a-4c21-8dae-778147ccc4a9"
      },
      "source": [
        "type(lista_misturada)"
      ],
      "execution_count": null,
      "outputs": [
        {
          "output_type": "execute_result",
          "data": {
            "text/plain": [
              "list"
            ]
          },
          "metadata": {
            "tags": []
          },
          "execution_count": 7
        }
      ]
    },
    {
      "cell_type": "markdown",
      "metadata": {
        "id": "0MvUjixZL3yE"
      },
      "source": [
        "**Acessando elementos de uma lista**\n",
        "\n",
        "Você deve passar o nome da lsta que deseja acessar e passar o índice do elemento desejado entre os colchetes."
      ]
    },
    {
      "cell_type": "code",
      "metadata": {
        "colab": {
          "base_uri": "https://localhost:8080/"
        },
        "id": "V7YOk5WBMBcG",
        "outputId": "7bfd7500-ff7a-44d2-aaa7-1564d8e6c015"
      },
      "source": [
        "lista_reais[1]"
      ],
      "execution_count": null,
      "outputs": [
        {
          "output_type": "execute_result",
          "data": {
            "text/plain": [
              "1.4"
            ]
          },
          "metadata": {
            "tags": []
          },
          "execution_count": 8
        }
      ]
    },
    {
      "cell_type": "code",
      "metadata": {
        "colab": {
          "base_uri": "https://localhost:8080/"
        },
        "id": "G9u4ooFSME4A",
        "outputId": "b652b11e-00db-402f-b762-9b5e478e773f"
      },
      "source": [
        "lista_reais[-1] #quando não sabemos quantos elementos a lista tem."
      ],
      "execution_count": null,
      "outputs": [
        {
          "output_type": "execute_result",
          "data": {
            "text/plain": [
              "1.9"
            ]
          },
          "metadata": {
            "tags": []
          },
          "execution_count": 9
        }
      ]
    },
    {
      "cell_type": "markdown",
      "metadata": {
        "id": "cn-kA166MQro"
      },
      "source": [
        "**Desafio**: Como acessar 'Python' dentro da lista criada de strings?"
      ]
    },
    {
      "cell_type": "code",
      "metadata": {
        "colab": {
          "base_uri": "https://localhost:8080/",
          "height": 36
        },
        "id": "dfuCjiWaMYkn",
        "outputId": "dc1e6b01-fb30-4494-ffc6-9589d4477094"
      },
      "source": [
        "lista_Strings[1]"
      ],
      "execution_count": 3,
      "outputs": [
        {
          "output_type": "execute_result",
          "data": {
            "application/vnd.google.colaboratory.intrinsic+json": {
              "type": "string"
            },
            "text/plain": [
              "'Python'"
            ]
          },
          "metadata": {
            "tags": []
          },
          "execution_count": 3
        }
      ]
    },
    {
      "cell_type": "markdown",
      "metadata": {
        "id": "V3lNp6niMpVa"
      },
      "source": [
        "**Desafio**: Como acessar 'Python' e 'Javascript' dentro da lista criada de strings?"
      ]
    },
    {
      "cell_type": "code",
      "metadata": {
        "colab": {
          "base_uri": "https://localhost:8080/"
        },
        "id": "bu6QF7xpMtHZ",
        "outputId": "00fc9a3a-2309-48a7-9c90-614819f81447"
      },
      "source": [
        "lista_Strings[1:3] #ele sempre excluirá o último rsultado"
      ],
      "execution_count": 5,
      "outputs": [
        {
          "output_type": "execute_result",
          "data": {
            "text/plain": [
              "['Python', 'Javascript']"
            ]
          },
          "metadata": {
            "tags": []
          },
          "execution_count": 5
        }
      ]
    },
    {
      "cell_type": "code",
      "metadata": {
        "colab": {
          "base_uri": "https://localhost:8080/"
        },
        "id": "9VmQzfwdNCCn",
        "outputId": "08421179-74d9-417d-cb57-1c9a43dd305f"
      },
      "source": [
        "lista_Strings[1:4]"
      ],
      "execution_count": null,
      "outputs": [
        {
          "output_type": "execute_result",
          "data": {
            "text/plain": [
              "['Python', 'Javascript']"
            ]
          },
          "metadata": {
            "tags": []
          },
          "execution_count": 12
        }
      ]
    },
    {
      "cell_type": "code",
      "metadata": {
        "colab": {
          "base_uri": "https://localhost:8080/"
        },
        "id": "hEUFkn04NLSC",
        "outputId": "0a3fad18-e098-4fe6-f30d-dc9a4b8db1f2"
      },
      "source": [
        "lista_Strings[0:3]"
      ],
      "execution_count": null,
      "outputs": [
        {
          "output_type": "execute_result",
          "data": {
            "text/plain": [
              "['R', 'Python', 'Javascript']"
            ]
          },
          "metadata": {
            "tags": []
          },
          "execution_count": 13
        }
      ]
    },
    {
      "cell_type": "code",
      "metadata": {
        "colab": {
          "base_uri": "https://localhost:8080/"
        },
        "id": "W956kvKgOvvF",
        "outputId": "743fb18c-2bc4-4c4a-a5bb-76fe81f2db6a"
      },
      "source": [
        "#subtituindo Java por C++\n",
        "lista_Strings[0] = 'C++'\n",
        "lista_Strings"
      ],
      "execution_count": null,
      "outputs": [
        {
          "output_type": "execute_result",
          "data": {
            "text/plain": [
              "['C++', 'Python', 'Javascript']"
            ]
          },
          "metadata": {
            "tags": []
          },
          "execution_count": 14
        }
      ]
    },
    {
      "cell_type": "markdown",
      "metadata": {
        "id": "KZuxng-D0hAE"
      },
      "source": [
        "**E se quisermos acessar todos elementos e ignorar Javascript?**"
      ]
    },
    {
      "cell_type": "code",
      "metadata": {
        "colab": {
          "base_uri": "https://localhost:8080/"
        },
        "id": "sc92F5d50f0t",
        "outputId": "a5386c2f-a73f-45ac-ce11-ce368e1eb4e2"
      },
      "source": [
        "lista_Strings[:2]"
      ],
      "execution_count": 6,
      "outputs": [
        {
          "output_type": "execute_result",
          "data": {
            "text/plain": [
              "['R', 'Python']"
            ]
          },
          "metadata": {
            "tags": []
          },
          "execution_count": 6
        }
      ]
    },
    {
      "cell_type": "markdown",
      "metadata": {
        "id": "kTadRUsZPHNR"
      },
      "source": [
        "**Funções aplicáveis a uma lista**\n",
        "\n",
        "Função | Descrição | Exemplo\n",
        ":----- | :-------- | :------\n",
        "len | Retorna a quantidade de elementos de uma lista | `len(lista)`\n",
        "max  | Retorna o maior elemento de uma lista | `max(lista)`\n",
        "min | Retorna o menor elemento de uma lista | `min(lista)`\n",
        "sum | Retorna o somatório dos elementos de uma lista | `sum(lista)`"
      ]
    },
    {
      "cell_type": "code",
      "metadata": {
        "colab": {
          "base_uri": "https://localhost:8080/"
        },
        "id": "TwBLJEFqPUxn",
        "outputId": "fff68b78-dc06-4942-87f4-ce0d71fce4a9"
      },
      "source": [
        "len(lista_misturada)"
      ],
      "execution_count": null,
      "outputs": [
        {
          "output_type": "execute_result",
          "data": {
            "text/plain": [
              "4"
            ]
          },
          "metadata": {
            "tags": []
          },
          "execution_count": 52
        }
      ]
    },
    {
      "cell_type": "code",
      "metadata": {
        "colab": {
          "base_uri": "https://localhost:8080/"
        },
        "id": "_Tg3Me8PPa7d",
        "outputId": "74467d45-284b-43a8-8a8b-622984485359"
      },
      "source": [
        "max(lista_reais)"
      ],
      "execution_count": null,
      "outputs": [
        {
          "output_type": "execute_result",
          "data": {
            "text/plain": [
              "1.9"
            ]
          },
          "metadata": {
            "tags": []
          },
          "execution_count": 53
        }
      ]
    },
    {
      "cell_type": "code",
      "metadata": {
        "colab": {
          "base_uri": "https://localhost:8080/"
        },
        "id": "2EMiNPJcPdKC",
        "outputId": "dca39d40-8393-48d6-dcf0-66d3706e1d80"
      },
      "source": [
        "min(lista_reais)"
      ],
      "execution_count": null,
      "outputs": [
        {
          "output_type": "execute_result",
          "data": {
            "text/plain": [
              "1.4"
            ]
          },
          "metadata": {
            "tags": []
          },
          "execution_count": 54
        }
      ]
    },
    {
      "cell_type": "code",
      "metadata": {
        "colab": {
          "base_uri": "https://localhost:8080/"
        },
        "id": "2qoTmEbTPiC4",
        "outputId": "ab672ffe-098e-488e-dd8a-805cf9dfe8a4"
      },
      "source": [
        "sum(lista_reais)"
      ],
      "execution_count": null,
      "outputs": [
        {
          "output_type": "execute_result",
          "data": {
            "text/plain": [
              "6.6"
            ]
          },
          "metadata": {
            "tags": []
          },
          "execution_count": 55
        }
      ]
    },
    {
      "cell_type": "markdown",
      "metadata": {
        "id": "y2EIugvlQr6P"
      },
      "source": [
        "**Principais métodos de um objeto lista**\n",
        "\n",
        "Método | Descrição | Exemplo\n",
        ":----- | :-------- | :------\n",
        "append | Adiciona um elemento no final da lista | `lista.append(10)`\n",
        "clear  | Apaga todos os elementos de uma lista | `lista.clear()`\n",
        "copy | Retorna uma cópia dos elementos da lista | `copia = lista.copy()`\n",
        "count | Retorna a quantidade de ocorrências de um elemento na lista | `qt = lista.count(5)`\n",
        "extend | Adiciona os elementos de outra lista passada por parâmetro | `lista.extend(outra_lista)`\n",
        "index | Retorna o índice do elemento passado por parâmetro (primeira posição) | `pos5 = lista.index(5)`\n",
        "insert | Adiciona um elemento em uma posição passada por parâmetro (adiciona no final caso a posição não exista)| `lista.insert(3, \"Maria\")`\n",
        "pop | Remove o elemento na posição passada por parâmetro (provoca um erro caso a posição não exista)| `elemento = lista.pop(3)`\n",
        "remove | Remove o elemento passado por parâmetro (provoca um erro caso o elemento não exista)| `lista.remove(5)`\n",
        "reverse | Inverte a ordem dos elementos de uma lista | `lista.reverse()`\n",
        "sort | Ordena os objetos de uma lista | `lista.sort()`\n",
        " | | `lista.sort(reverse=True)`"
      ]
    },
    {
      "cell_type": "code",
      "metadata": {
        "id": "BJlsVyagP0Ut"
      },
      "source": [
        "lista_gatos = ['SRD', 'Siames', 'Persa']"
      ],
      "execution_count": null,
      "outputs": []
    },
    {
      "cell_type": "code",
      "metadata": {
        "id": "18gw5fXLP8oX"
      },
      "source": [
        "lista_gatos.append('Spynx')"
      ],
      "execution_count": null,
      "outputs": []
    },
    {
      "cell_type": "code",
      "metadata": {
        "colab": {
          "base_uri": "https://localhost:8080/"
        },
        "id": "as8yHHOgQKIF",
        "outputId": "e04e12c3-9574-4527-9310-0430e07e491d"
      },
      "source": [
        "lista_gatos"
      ],
      "execution_count": null,
      "outputs": [
        {
          "output_type": "execute_result",
          "data": {
            "text/plain": [
              "['SRD', 'Siames', 'Persa', 'Spynx', 'Spynx']"
            ]
          },
          "metadata": {
            "tags": []
          },
          "execution_count": 60
        }
      ]
    },
    {
      "cell_type": "code",
      "metadata": {
        "colab": {
          "base_uri": "https://localhost:8080/"
        },
        "id": "4g7TfRNrQhgJ",
        "outputId": "d634bb48-6981-45ff-cfd9-66ec16ed90b5"
      },
      "source": [
        "lista_gatos.count('Persa')"
      ],
      "execution_count": null,
      "outputs": [
        {
          "output_type": "execute_result",
          "data": {
            "text/plain": [
              "1"
            ]
          },
          "metadata": {
            "tags": []
          },
          "execution_count": 61
        }
      ]
    },
    {
      "cell_type": "code",
      "metadata": {
        "colab": {
          "base_uri": "https://localhost:8080/"
        },
        "id": "1NtezsTKQmFJ",
        "outputId": "0f5d29f8-7f02-491a-fc7a-d0975acb7c3e"
      },
      "source": [
        "lista_gatos.count('Spynx')"
      ],
      "execution_count": null,
      "outputs": [
        {
          "output_type": "execute_result",
          "data": {
            "text/plain": [
              "2"
            ]
          },
          "metadata": {
            "tags": []
          },
          "execution_count": 62
        }
      ]
    },
    {
      "cell_type": "code",
      "metadata": {
        "id": "XNj9It4pQqfc"
      },
      "source": [
        "lista_gatos.insert(0,'Himalaia')"
      ],
      "execution_count": null,
      "outputs": []
    },
    {
      "cell_type": "code",
      "metadata": {
        "colab": {
          "base_uri": "https://localhost:8080/"
        },
        "id": "AOG23KM3QzoF",
        "outputId": "35363823-9c4c-481e-e369-5b2e4651b98f"
      },
      "source": [
        "lista_gatos"
      ],
      "execution_count": null,
      "outputs": [
        {
          "output_type": "execute_result",
          "data": {
            "text/plain": [
              "['Himalaia', 'SRD', 'Siames', 'Persa', 'Spynx', 'Spynx']"
            ]
          },
          "metadata": {
            "tags": []
          },
          "execution_count": 64
        }
      ]
    },
    {
      "cell_type": "markdown",
      "metadata": {
        "id": "kCN9eexnQ6Zn"
      },
      "source": [
        "E se quisermos remover SRD da lista? "
      ]
    },
    {
      "cell_type": "markdown",
      "metadata": {
        "id": "OhR4T6AhPMm4"
      },
      "source": [
        "Temos dois jeitos:\n",
        "- pop\n",
        "- remove"
      ]
    },
    {
      "cell_type": "code",
      "metadata": {
        "colab": {
          "base_uri": "https://localhost:8080/"
        },
        "id": "aV6kUdtcRRqG",
        "outputId": "080ee7ec-b0e9-4eb2-c148-b9b21feffc1e"
      },
      "source": [
        "lista_gatos.pop(1) #remove o elemento na posição passada por parâmentro\n",
        "lista_gatos"
      ],
      "execution_count": null,
      "outputs": [
        {
          "output_type": "execute_result",
          "data": {
            "text/plain": [
              "['Himalaia', 'Persa', 'Spynx', 'Spynx']"
            ]
          },
          "metadata": {
            "tags": []
          },
          "execution_count": 66
        }
      ]
    },
    {
      "cell_type": "code",
      "metadata": {
        "colab": {
          "base_uri": "https://localhost:8080/"
        },
        "id": "0XJYvoNtRgo-",
        "outputId": "82017ff3-429a-42c5-e223-a254f3e5d90c"
      },
      "source": [
        "lista_gatos.insert(1,'SRD')\n",
        "lista_gatos"
      ],
      "execution_count": null,
      "outputs": [
        {
          "output_type": "execute_result",
          "data": {
            "text/plain": [
              "['Himalaia', 'SRD', 'Persa', 'Spynx', 'Spynx']"
            ]
          },
          "metadata": {
            "tags": []
          },
          "execution_count": 67
        }
      ]
    },
    {
      "cell_type": "code",
      "metadata": {
        "colab": {
          "base_uri": "https://localhost:8080/"
        },
        "id": "uhY3HnGlRmJI",
        "outputId": "840a9236-4adc-4f38-b2b5-1fc40fac8c7a"
      },
      "source": [
        "lista_gatos.remove('SRD')\n",
        "lista_gatos"
      ],
      "execution_count": null,
      "outputs": [
        {
          "output_type": "execute_result",
          "data": {
            "text/plain": [
              "['Himalaia', 'Persa', 'Spynx', 'Spynx']"
            ]
          },
          "metadata": {
            "tags": []
          },
          "execution_count": 68
        }
      ]
    },
    {
      "cell_type": "markdown",
      "metadata": {
        "id": "T7qJ34XcRtVw"
      },
      "source": [
        "###**Desafio**\n",
        "Crie uma lista contendo os seguintes nomes de filmes:\n",
        "- As branquelas\n",
        "- Vovozona\n",
        "- Meninas Malvadas\n",
        "Armazene essa lista na **variável filmes**\n",
        "\n",
        "Depois adicione o filme Zoobielândia no final da lista filmes\n",
        "\n",
        "Substitua o filme Vovozona por Divertidamente.\n"
      ]
    },
    {
      "cell_type": "code",
      "metadata": {
        "id": "pBfsrWISTVrh"
      },
      "source": [
        "lista_filme=['Vovozona', 'As branquelas', 'Meninas Malvadas']\n",
        "filme = lista_filme\n"
      ],
      "execution_count": 7,
      "outputs": []
    },
    {
      "cell_type": "code",
      "metadata": {
        "colab": {
          "base_uri": "https://localhost:8080/"
        },
        "id": "KSskPWKOTtFj",
        "outputId": "8e70c9fe-c7fd-45e6-9e40-833d12a23704"
      },
      "source": [
        "filme"
      ],
      "execution_count": 8,
      "outputs": [
        {
          "output_type": "execute_result",
          "data": {
            "text/plain": [
              "['Vovozona', 'As branquelas', 'Meninas Malvadas']"
            ]
          },
          "metadata": {
            "tags": []
          },
          "execution_count": 8
        }
      ]
    },
    {
      "cell_type": "code",
      "metadata": {
        "colab": {
          "base_uri": "https://localhost:8080/"
        },
        "id": "rkwCgbbnTuoz",
        "outputId": "706d7b9e-eef1-4629-a286-12d78d2448d0"
      },
      "source": [
        "filme[1] = \"divertidamente\"\n",
        "filme"
      ],
      "execution_count": 9,
      "outputs": [
        {
          "output_type": "execute_result",
          "data": {
            "text/plain": [
              "['Vovozona', 'divertidamente', 'Meninas Malvadas']"
            ]
          },
          "metadata": {
            "tags": []
          },
          "execution_count": 9
        }
      ]
    },
    {
      "cell_type": "code",
      "metadata": {
        "colab": {
          "base_uri": "https://localhost:8080/"
        },
        "id": "ckkLMduYT2uZ",
        "outputId": "2a4899f8-4662-469c-a17e-67307fa56bd2"
      },
      "source": [
        "filme.append('Zombielandia')\n",
        "filme"
      ],
      "execution_count": 10,
      "outputs": [
        {
          "output_type": "execute_result",
          "data": {
            "text/plain": [
              "['Vovozona', 'divertidamente', 'Meninas Malvadas', 'Zombielandia']"
            ]
          },
          "metadata": {
            "tags": []
          },
          "execution_count": 10
        }
      ]
    },
    {
      "cell_type": "markdown",
      "metadata": {
        "id": "3Q_I74GMT-_Q"
      },
      "source": [
        "## **Tuplas:**\n",
        "Assim como a Lista, uma Tupla em Python é uma coleção de elementos\n",
        "- A principal diferença entre essas estruturas é a propriedade de imutabilidade das tuplas. Isso significa que, uma vez definidos os seus elementos, a tupla não pode mais ser alterada."
      ]
    },
    {
      "cell_type": "code",
      "metadata": {
        "id": "9Dludr71UKH1"
      },
      "source": [
        "tupla = (3,2,4,10,13)"
      ],
      "execution_count": null,
      "outputs": []
    },
    {
      "cell_type": "code",
      "metadata": {
        "colab": {
          "base_uri": "https://localhost:8080/"
        },
        "id": "BBVK_d6OzIqj",
        "outputId": "da0d1713-a01d-4931-82f2-8c371be22954"
      },
      "source": [
        "type(tupla)"
      ],
      "execution_count": null,
      "outputs": [
        {
          "output_type": "execute_result",
          "data": {
            "text/plain": [
              "tuple"
            ]
          },
          "metadata": {
            "tags": []
          },
          "execution_count": 2
        }
      ]
    },
    {
      "cell_type": "markdown",
      "metadata": {
        "id": "KwafiQ62zNvn"
      },
      "source": [
        "**Como acessar elementos de uma tupla**"
      ]
    },
    {
      "cell_type": "code",
      "metadata": {
        "colab": {
          "base_uri": "https://localhost:8080/"
        },
        "id": "YK30KG5szQSg",
        "outputId": "f58911a1-8e4c-496b-9126-0979730e9c7e"
      },
      "source": [
        "tupla[3]"
      ],
      "execution_count": null,
      "outputs": [
        {
          "output_type": "execute_result",
          "data": {
            "text/plain": [
              "10"
            ]
          },
          "metadata": {
            "tags": []
          },
          "execution_count": 3
        }
      ]
    },
    {
      "cell_type": "markdown",
      "metadata": {
        "id": "47V6wlrbzZyW"
      },
      "source": [
        "**A imutabilidade de uma tupla**"
      ]
    },
    {
      "cell_type": "code",
      "metadata": {
        "colab": {
          "base_uri": "https://localhost:8080/",
          "height": 189
        },
        "id": "nKhWWym01nn9",
        "outputId": "a91d15f3-93f4-43bf-e607-95c0b998b0a7"
      },
      "source": [
        "# Atribuindo o valor 5 ao índice 0 de tupla1 provocará um erro\n",
        "tupla[0] = 5"
      ],
      "execution_count": null,
      "outputs": [
        {
          "output_type": "error",
          "ename": "TypeError",
          "evalue": "ignored",
          "traceback": [
            "\u001b[0;31m---------------------------------------------------------------------------\u001b[0m",
            "\u001b[0;31mTypeError\u001b[0m                                 Traceback (most recent call last)",
            "\u001b[0;32m<ipython-input-17-b4e0bebfe1ae>\u001b[0m in \u001b[0;36m<module>\u001b[0;34m()\u001b[0m\n\u001b[1;32m      1\u001b[0m \u001b[0;31m# Atribuindo o valor 5 ao índice 0 de tupla1 provocará um erro\u001b[0m\u001b[0;34m\u001b[0m\u001b[0;34m\u001b[0m\u001b[0;34m\u001b[0m\u001b[0m\n\u001b[0;32m----> 2\u001b[0;31m \u001b[0mtupla\u001b[0m\u001b[0;34m[\u001b[0m\u001b[0;36m0\u001b[0m\u001b[0;34m]\u001b[0m \u001b[0;34m=\u001b[0m \u001b[0;36m5\u001b[0m\u001b[0;34m\u001b[0m\u001b[0;34m\u001b[0m\u001b[0m\n\u001b[0m",
            "\u001b[0;31mTypeError\u001b[0m: 'tuple' object does not support item assignment"
          ]
        }
      ]
    },
    {
      "cell_type": "markdown",
      "metadata": {
        "id": "aTu1mu7KUXlP"
      },
      "source": [
        "**Converter tupla em lista**"
      ]
    },
    {
      "cell_type": "code",
      "metadata": {
        "colab": {
          "base_uri": "https://localhost:8080/"
        },
        "id": "M5u5GrnD1wgT",
        "outputId": "3ef148a0-9780-4e23-a3a1-63aad9e0a38c"
      },
      "source": [
        "nova_lista = list(tupla)\n",
        "nova_lista"
      ],
      "execution_count": null,
      "outputs": [
        {
          "output_type": "execute_result",
          "data": {
            "text/plain": [
              "[3, 2, 4, 10, 13]"
            ]
          },
          "metadata": {
            "tags": []
          },
          "execution_count": 18
        }
      ]
    },
    {
      "cell_type": "markdown",
      "metadata": {
        "id": "ShG5wl-wUkr3"
      },
      "source": [
        "##Dicionários\n",
        "\n",
        "- Um dicionário é uma coleção de elementos que possuem uma chave e um valor\n",
        "- Ao invés de um índie, usamos a chave para recuperar um valor\n",
        "\n",
        "Assim o principal propósito de um dicionário é associar um valor(value) a uma chave(key)"
      ]
    },
    {
      "cell_type": "code",
      "metadata": {
        "id": "vfiI7TBiU6by"
      },
      "source": [
        "# dicionários de estados: A chave será a silgra do estado e o valor é o nome do estado\n",
        "dic_estados = {'MG':'Minas Gerais', 'PR' : 'Paran','BA' : 'Bahia', 'RN' : 'Rio Grande do Norte', 'SP' : 'São Paulo'}"
      ],
      "execution_count": null,
      "outputs": []
    },
    {
      "cell_type": "code",
      "metadata": {
        "colab": {
          "base_uri": "https://localhost:8080/"
        },
        "id": "2fXMfpmNVrEp",
        "outputId": "9a3a4afd-8579-45a8-eada-71c84fa4bf92"
      },
      "source": [
        "dic_estados"
      ],
      "execution_count": null,
      "outputs": [
        {
          "output_type": "execute_result",
          "data": {
            "text/plain": [
              "{'BA': 'Bahia',\n",
              " 'MG': 'Minas Gerais',\n",
              " 'PR': 'Paran',\n",
              " 'RN': 'Rio Grande do Norte',\n",
              " 'SP': 'São Paulo'}"
            ]
          },
          "metadata": {
            "tags": []
          },
          "execution_count": 95
        }
      ]
    },
    {
      "cell_type": "code",
      "metadata": {
        "colab": {
          "base_uri": "https://localhost:8080/"
        },
        "id": "aGlQtuBmPs2N",
        "outputId": "273efb5e-9f2d-4fb5-a619-c6664a8194f6"
      },
      "source": [
        "# Dicionário de alunos 2: chave é o nome e valor é um outro dicionário contendo as 3 notas do aluno\n",
        "dic_notas_alunos2 = {\"João\": {\"nota1\": 6, \"nota2\": 8, \"nota3\": 4}, \n",
        "                     \"Maria\": {\"nota1\": 10, \"nota2\": 9, \"nota3\": 10}, \n",
        "                     \"José\": {\"nota1\": 8, \"nota2\": 9.5, \"nota3\": 7}, \n",
        "                    }\n",
        "dic_notas_alunos2"
      ],
      "execution_count": 12,
      "outputs": [
        {
          "output_type": "execute_result",
          "data": {
            "text/plain": [
              "{'José': {'nota1': 8, 'nota2': 9.5, 'nota3': 7},\n",
              " 'João': {'nota1': 6, 'nota2': 8, 'nota3': 4},\n",
              " 'Maria': {'nota1': 10, 'nota2': 9, 'nota3': 10}}"
            ]
          },
          "metadata": {
            "tags": []
          },
          "execution_count": 12
        }
      ]
    },
    {
      "cell_type": "code",
      "metadata": {
        "colab": {
          "base_uri": "https://localhost:8080/"
        },
        "id": "q5dibwiWVwgQ",
        "outputId": "b64e70c9-f631-4eed-9a4d-245874a64e96"
      },
      "source": [
        "type(dic_estados)"
      ],
      "execution_count": null,
      "outputs": [
        {
          "output_type": "execute_result",
          "data": {
            "text/plain": [
              "dict"
            ]
          },
          "metadata": {
            "tags": []
          },
          "execution_count": 96
        }
      ]
    },
    {
      "cell_type": "code",
      "metadata": {
        "colab": {
          "base_uri": "https://localhost:8080/"
        },
        "id": "nEo9RlWSVz4g",
        "outputId": "f4d2a15a-0a0f-4280-fffc-893340e212fb"
      },
      "source": [
        "dic_produto = {123 : 'Lápis', 156 : 'Borracha'}\n",
        "dic_produto"
      ],
      "execution_count": null,
      "outputs": [
        {
          "output_type": "execute_result",
          "data": {
            "text/plain": [
              "{123: 'Lápis', 156: 'Borracha'}"
            ]
          },
          "metadata": {
            "tags": []
          },
          "execution_count": 98
        }
      ]
    },
    {
      "cell_type": "markdown",
      "metadata": {
        "id": "yDPfrwzGXbPP"
      },
      "source": [
        "**Acessando um valor de um dicionário através de uma chave**\n",
        "\n"
      ]
    },
    {
      "cell_type": "code",
      "metadata": {
        "colab": {
          "base_uri": "https://localhost:8080/"
        },
        "id": "kTWSISsmXgYn",
        "outputId": "6a04a82d-67f6-4935-be00-99b6a3b0ee45"
      },
      "source": [
        "dic_estados"
      ],
      "execution_count": null,
      "outputs": [
        {
          "output_type": "execute_result",
          "data": {
            "text/plain": [
              "{'BA': 'Bahia',\n",
              " 'MG': 'Minas Gerais',\n",
              " 'PR': 'Paran',\n",
              " 'RN': 'Rio Grande do Norte',\n",
              " 'SP': 'São Paulo'}"
            ]
          },
          "metadata": {
            "tags": []
          },
          "execution_count": 99
        }
      ]
    },
    {
      "cell_type": "code",
      "metadata": {
        "colab": {
          "base_uri": "https://localhost:8080/",
          "height": 36
        },
        "id": "F86t_kNvXkK6",
        "outputId": "67881d57-3f73-4ed8-f0ff-c668d4c1851e"
      },
      "source": [
        "dic_estados['MG']"
      ],
      "execution_count": null,
      "outputs": [
        {
          "output_type": "execute_result",
          "data": {
            "application/vnd.google.colaboratory.intrinsic+json": {
              "type": "string"
            },
            "text/plain": [
              "'Minas Gerais'"
            ]
          },
          "metadata": {
            "tags": []
          },
          "execution_count": 100
        }
      ]
    },
    {
      "cell_type": "code",
      "metadata": {
        "colab": {
          "base_uri": "https://localhost:8080/",
          "height": 36
        },
        "id": "odzdnmEvXwg5",
        "outputId": "1a5e153c-89e0-4889-f3cb-1caea6ed68e4"
      },
      "source": [
        "dic_produto[156]"
      ],
      "execution_count": null,
      "outputs": [
        {
          "output_type": "execute_result",
          "data": {
            "application/vnd.google.colaboratory.intrinsic+json": {
              "type": "string"
            },
            "text/plain": [
              "'Borracha'"
            ]
          },
          "metadata": {
            "tags": []
          },
          "execution_count": 103
        }
      ]
    },
    {
      "cell_type": "markdown",
      "metadata": {
        "id": "t8rvt3NqP7Z4"
      },
      "source": [
        "**Acessando a nota da primeira prova do João no dicionário dic_notas_alunos2**"
      ]
    },
    {
      "cell_type": "code",
      "metadata": {
        "id": "41SkXEbSP9dm"
      },
      "source": [
        "dic_notas_alunos2['João']['nota1']"
      ],
      "execution_count": null,
      "outputs": []
    },
    {
      "cell_type": "markdown",
      "metadata": {
        "id": "Q3dws-TZYMZl"
      },
      "source": [
        "**Alterando valores em dicionários**"
      ]
    },
    {
      "cell_type": "code",
      "metadata": {
        "colab": {
          "base_uri": "https://localhost:8080/"
        },
        "id": "2ScsfR2vYO8D",
        "outputId": "e9b289de-26aa-41e9-cc13-b268b85a4156"
      },
      "source": [
        "dic_estados"
      ],
      "execution_count": null,
      "outputs": [
        {
          "output_type": "execute_result",
          "data": {
            "text/plain": [
              "{'BA': 'Bahia',\n",
              " 'MG': 'Minas Gerais',\n",
              " 'PR': 'Paran',\n",
              " 'RN': 'Rio Grande do Norte',\n",
              " 'SP': 'São Paulo'}"
            ]
          },
          "metadata": {
            "tags": []
          },
          "execution_count": 104
        }
      ]
    },
    {
      "cell_type": "code",
      "metadata": {
        "colab": {
          "base_uri": "https://localhost:8080/"
        },
        "id": "MB1hBN7PYQxl",
        "outputId": "75233c46-819c-4abd-ebaf-9ae3a5a40717"
      },
      "source": [
        "dic_estados['PR'] = 'Paraná'\n",
        "dic_estados"
      ],
      "execution_count": null,
      "outputs": [
        {
          "output_type": "execute_result",
          "data": {
            "text/plain": [
              "{'BA': 'Bahia',\n",
              " 'MG': 'Minas Gerais',\n",
              " 'PR': 'Paraná',\n",
              " 'RN': 'Rio Grande do Norte',\n",
              " 'SP': 'São Paulo'}"
            ]
          },
          "metadata": {
            "tags": []
          },
          "execution_count": 105
        }
      ]
    },
    {
      "cell_type": "markdown",
      "metadata": {
        "id": "r21CeOAI18eU"
      },
      "source": [
        "**Principais métodos de um objeto dicionário**\n",
        "\n",
        "Método | Descrição | Exemplo\n",
        ":----- | :-------- | :------\n",
        "clear  | Apaga todos os elementos de um dicionário | `dic.clear()`\n",
        "copy | Retorna uma cópia dos elementos de um dicionário | `dic_copia = dic.copy()`\n",
        "fromkeys | Retorna um dicionário a partir de uma sequência de chaves | `exemplo = dic.fromkeys({\"k1\", \"k4\", \"k5\"})`\n",
        "get | Retorna o valor associado a uma chave | `dic.get(\"k1\")`\n",
        " |  | `dic.get(\"k1\", 0)`\n",
        "items | Retorna uma visão dos pares chave/valor de um dicionário | `dic.items()`\n",
        "keys | Retorna uma visão das chaves de um dicionário | `dic.keys()`\n",
        "pop | Remove e retorna o elemento associado à chave passada por parâmetro (provoca erro se a chave não existir) | `dic.pop(2)`\n",
        "popitem | Remove e retorna o último elemento adicionado ao dicionário | `dic.popitem()`\n",
        "setdefault | Retorna o valor associado a uma chave (se a chave existir). Caso não exista, insere a chave com o valor (opcional) no dicionário | `dic.setdefault(2, \"dois\")`\n",
        "update | Adiciona ao dicionário os pares de chave/valor de outro dicionário passado por parâmetro | `dic.update(dic2)`\n",
        "values | Retorna uma visão dos valores de um dicionário | `dic.values`"
      ]
    },
    {
      "cell_type": "code",
      "metadata": {
        "colab": {
          "base_uri": "https://localhost:8080/"
        },
        "id": "Q4Opa5wZYn9L",
        "outputId": "41dcd10e-bfd3-4957-edc0-0872370e3a3d"
      },
      "source": [
        "filmes_dic = {'As branquelas' : 2004, 'Vovózona' : 2000, 'Meninas Malvadas' : 2004}\n",
        "filmes_dic"
      ],
      "execution_count": null,
      "outputs": [
        {
          "output_type": "execute_result",
          "data": {
            "text/plain": [
              "{'As branquelas': 2004, 'Meninas Malvadas': 2004, 'Vovózona': 2000}"
            ]
          },
          "metadata": {
            "tags": []
          },
          "execution_count": 106
        }
      ]
    },
    {
      "cell_type": "code",
      "metadata": {
        "colab": {
          "base_uri": "https://localhost:8080/"
        },
        "id": "JMs4DBLUZGL3",
        "outputId": "ab7b8241-1e98-45e3-9a3e-aa6e5ac3d0ea"
      },
      "source": [
        "filmes_dic2 = {'Divertidamente' : 2015, 'O show de turman' : 1998}\n",
        "filmes_dic2"
      ],
      "execution_count": null,
      "outputs": [
        {
          "output_type": "execute_result",
          "data": {
            "text/plain": [
              "{'Divertidamente': 2015, 'O show de turman': 1998}"
            ]
          },
          "metadata": {
            "tags": []
          },
          "execution_count": 107
        }
      ]
    },
    {
      "cell_type": "code",
      "metadata": {
        "colab": {
          "base_uri": "https://localhost:8080/"
        },
        "id": "sWvNMEzMZZey",
        "outputId": "1d7f1ed0-dadf-49a9-9269-2494d895db82"
      },
      "source": [
        "filmes_dic.update(filmes_dic2)\n",
        "filmes_dic"
      ],
      "execution_count": null,
      "outputs": [
        {
          "output_type": "execute_result",
          "data": {
            "text/plain": [
              "{'As branquelas': 2004,\n",
              " 'Divertidamente': 2015,\n",
              " 'Meninas Malvadas': 2004,\n",
              " 'O show de turman': 1998,\n",
              " 'Vovózona': 2000}"
            ]
          },
          "metadata": {
            "tags": []
          },
          "execution_count": 110
        }
      ]
    }
  ]
}