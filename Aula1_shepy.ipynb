{
  "nbformat": 4,
  "nbformat_minor": 0,
  "metadata": {
    "colab": {
      "name": "Aula1.shepy",
      "provenance": [],
      "authorship_tag": "ABX9TyOEiAHmgJWSK+RQIY+Ql94Z",
      "include_colab_link": true
    },
    "kernelspec": {
      "display_name": "Python 3",
      "name": "python3"
    },
    "language_info": {
      "name": "python"
    }
  },
  "cells": [
    {
      "cell_type": "markdown",
      "metadata": {
        "id": "view-in-github",
        "colab_type": "text"
      },
      "source": [
        "<a href=\"https://colab.research.google.com/github/FernandaRiver/shePY/blob/main/Aula1_shepy.ipynb\" target=\"_parent\"><img src=\"https://colab.research.google.com/assets/colab-badge.svg\" alt=\"Open In Colab\"/></a>"
      ]
    },
    {
      "cell_type": "markdown",
      "metadata": {
        "id": "0EzONOou75Cv"
      },
      "source": [
        "#Aula1 -- shepy\n",
        "\n",
        "Nessa aula nós iremos *trabalhar* com **python** e realizar operações matemáticas"
      ]
    },
    {
      "cell_type": "markdown",
      "metadata": {
        "id": "HElqJIVB88bj"
      },
      "source": [
        "##Tipos de dado\n",
        "\n",
        "Tipos numéricos:\n",
        "- Inteiros (\"int\") 9,2,5,-4\n",
        "-Reais(float) números que possuem vírgulas. 2.5, 5.3, 4.5\n",
        "\n",
        "Não númericos\n",
        "- Texto (\"str\"): 'Maria', 'Fernanda'\n",
        "\n",
        "Importante sempre seguir um padrão\n",
        "\n",
        "- Booleano (\"bool\") -operador lógico: True or Falso\n",
        "\n",
        "\n"
      ]
    },
    {
      "cell_type": "markdown",
      "metadata": {
        "id": "X9pLtkIH-46e"
      },
      "source": [
        "##Variáveis e identificadores\n",
        "\n",
        "Variáveis são elementos básicsos na programação que armazenam os dados que precisamos em nosso algoritmo.\n",
        "Toda variável é caracterizada por um nome e por um tipo.\n",
        "Um identificador em Python pode conter apenas:\n",
        "- Letras de A a Z (minúsculas e maiúsculas)\n",
        "- Digítos de 0 a 9\n",
        "- O símbolo underscore _\n",
        "\n",
        "Atribuição da variável: =\n",
        "\n",
        "Sinal de igualdade: ==\n",
        "\n",
        "O Python **diferencia letras maiúsculas e minúsculas**.\n",
        "\n",
        "Para colocar a variável na tela, alguns editores de python necessitam do comando \"print\"\n",
        "\n",
        "Coloca-se o tipo da variável apenas em situações específicas, como qquando queremos que alguém coloque o valor que queremos ou quando queremos converter por exemplo:\n",
        "\n",
        "idade = 24.0\n",
        "type(idade): float\n",
        "\n",
        "int(idade)\n",
        "24 type(idade): int\n"
      ]
    },
    {
      "cell_type": "code",
      "metadata": {
        "colab": {
          "base_uri": "https://localhost:8080/"
        },
        "id": "Fvd0oZ37Cwwb",
        "outputId": "90747432-ed56-488a-ec18-4d7d678218b1"
      },
      "source": [
        "print('Hello World!')"
      ],
      "execution_count": null,
      "outputs": [
        {
          "output_type": "stream",
          "text": [
            "Hello World!\n"
          ],
          "name": "stdout"
        }
      ]
    },
    {
      "cell_type": "code",
      "metadata": {
        "colab": {
          "base_uri": "https://localhost:8080/"
        },
        "id": "k7oKbPIqC4U_",
        "outputId": "6faef545-afbf-4b92-bd58-d3891273bf58"
      },
      "source": [
        "mensagem = 'Hello World!'\n",
        "print(mensagem)\n",
        "type(mensagem)"
      ],
      "execution_count": null,
      "outputs": [
        {
          "output_type": "stream",
          "text": [
            "Hello World!\n"
          ],
          "name": "stdout"
        },
        {
          "output_type": "execute_result",
          "data": {
            "text/plain": [
              "str"
            ]
          },
          "metadata": {
            "tags": []
          },
          "execution_count": 10
        }
      ]
    },
    {
      "cell_type": "code",
      "metadata": {
        "colab": {
          "base_uri": "https://localhost:8080/"
        },
        "id": "OVfUXKTgDSuk",
        "outputId": "28f506b5-c44d-4024-bf35-5f3484e2e63b"
      },
      "source": [
        "print(mensagem, 'Estou aprendendo a programar')"
      ],
      "execution_count": null,
      "outputs": [
        {
          "output_type": "stream",
          "text": [
            "Hello World! Estou aprendendo a programar\n"
          ],
          "name": "stdout"
        }
      ]
    },
    {
      "cell_type": "code",
      "metadata": {
        "colab": {
          "base_uri": "https://localhost:8080/"
        },
        "id": "RTRHQOqtDnVG",
        "outputId": "403e62bd-f1fd-40a9-b0fc-293b5750fc90"
      },
      "source": [
        "meu_nome = 'Fernanda'\n",
        "print(meu_nome)"
      ],
      "execution_count": null,
      "outputs": [
        {
          "output_type": "stream",
          "text": [
            "Fernanda\n"
          ],
          "name": "stdout"
        }
      ]
    },
    {
      "cell_type": "code",
      "metadata": {
        "colab": {
          "base_uri": "https://localhost:8080/"
        },
        "id": "c-nSwHoiD8KI",
        "outputId": "55369456-eabf-437f-eeb5-be93bbf11bd4"
      },
      "source": [
        "print('Hello,',meu_nome,'!')"
      ],
      "execution_count": null,
      "outputs": [
        {
          "output_type": "stream",
          "text": [
            "Hello, Fernanda !\n"
          ],
          "name": "stdout"
        }
      ]
    },
    {
      "cell_type": "code",
      "metadata": {
        "colab": {
          "base_uri": "https://localhost:8080/"
        },
        "id": "SAz21RTmFgK8",
        "outputId": "0372a923-ac86-429e-c2c6-0f230a105457"
      },
      "source": [
        "idade=23\n",
        "IDADE=24\n",
        "print(idade, IDADE)"
      ],
      "execution_count": null,
      "outputs": [
        {
          "output_type": "stream",
          "text": [
            "24 25\n"
          ],
          "name": "stdout"
        }
      ]
    },
    {
      "cell_type": "code",
      "metadata": {
        "colab": {
          "base_uri": "https://localhost:8080/"
        },
        "id": "76t1Nm1GEyyB",
        "outputId": "95f416fd-3aaf-4bac-b893-4c96b029faae"
      },
      "source": [
        "salario = 1245.50\n",
        "\n",
        "print(\"O meu salário é\", salario)"
      ],
      "execution_count": null,
      "outputs": [
        {
          "output_type": "stream",
          "text": [
            "O meu salário é 1245.5\n"
          ],
          "name": "stdout"
        }
      ]
    },
    {
      "cell_type": "code",
      "metadata": {
        "colab": {
          "base_uri": "https://localhost:8080/"
        },
        "id": "PBxWdzt-Frr5",
        "outputId": "1f1141d8-68d8-461e-a337-c203994f138e"
      },
      "source": [
        "print('Olá, {}' .format(meu_nome))"
      ],
      "execution_count": null,
      "outputs": [
        {
          "output_type": "stream",
          "text": [
            "Olá, Fernanda\n"
          ],
          "name": "stdout"
        }
      ]
    },
    {
      "cell_type": "code",
      "metadata": {
        "colab": {
          "base_uri": "https://localhost:8080/"
        },
        "id": "eBKluou9HAKb",
        "outputId": "ccae23a4-7c9a-4896-9cff-50d50619321d"
      },
      "source": [
        "print('O meu nome é {} e eu tenho {}, mas ano que vem eu faço {}'.format(meu_nome, idade, IDADE))"
      ],
      "execution_count": null,
      "outputs": [
        {
          "output_type": "stream",
          "text": [
            "O meu nome é Fernanda e eu tenho 24, mas ano que vem eu faço 25\n"
          ],
          "name": "stdout"
        }
      ]
    },
    {
      "cell_type": "markdown",
      "metadata": {
        "id": "XEz0sCsoIrKs"
      },
      "source": [
        "##Operadores Aritméticos\n",
        "\n",
        "\n",
        "Operadores aritméticos\n",
        "Operador \tSignificado \tExemplo\n",
        "\n",
        "| +  |\t   Adição |\ta = 3 + 2 \n",
        "\n",
        "| -  |\tSubtração |\tb = 7 - a\n",
        "\n",
        "| *  |\tMultiplicação |\tc = a * b\n",
        "\n",
        "| /  |\tDivisão |\td = 10/3\n",
        "\n",
        "| // |\tQuociente |\te = 10//3\n",
        "\n",
        "| % |\tResto |\tf = 10%3\n",
        "\n",
        "| ** |\tExponenciação |\tg = 2 ** 3\n",
        "\n",
        "| ** |\tRadiciação |\th = 16 ** (1/2)\n",
        "\n",
        "Precedência de Operadores\n",
        "   - Parênteses\n",
        "   - Potenciação\n",
        "   - Multiplicação e divisão\n",
        "   - Soma e substração\n",
        "\n",
        "\n"
      ]
    },
    {
      "cell_type": "code",
      "metadata": {
        "colab": {
          "base_uri": "https://localhost:8080/"
        },
        "id": "DOczpErAJnLk",
        "outputId": "16b5c3f6-acff-4b1b-ea1a-42f52661a675"
      },
      "source": [
        "num1=2\n",
        "num2=3\n",
        "soma = num1 + num2\n",
        "\n",
        "print('A soma de {} e {} é igual a {}'.format(num1,num2,soma))"
      ],
      "execution_count": null,
      "outputs": [
        {
          "output_type": "stream",
          "text": [
            "A soma de 2 e 3 é igual a 5\n"
          ],
          "name": "stdout"
        }
      ]
    },
    {
      "cell_type": "markdown",
      "metadata": {
        "id": "CdpLae5eKLE5"
      },
      "source": [
        "Input = funciona para uma outra pessoa insira o número\n",
        "\n"
      ]
    },
    {
      "cell_type": "code",
      "metadata": {
        "colab": {
          "base_uri": "https://localhost:8080/"
        },
        "id": "RSZ9ABO3KCQg",
        "outputId": "b265a88e-5ca7-4cc1-f9d4-c721d7e45826"
      },
      "source": [
        "n1 = int(input('Digite um número: '))\n",
        "n2 = int(input('Digite um segundo número: '))\n",
        "n3 =int(input('Digite um terceiro número: '))\n",
        "\n",
        "soma = n1 + n2 + n3\n",
        "\n",
        "print(soma)\n",
        "\n"
      ],
      "execution_count": null,
      "outputs": [
        {
          "output_type": "stream",
          "text": [
            "Digite um número: 5\n",
            "Digite um segundo número: 3\n",
            "Digite um terceiro número: 4\n",
            "12\n"
          ],
          "name": "stdout"
        }
      ]
    },
    {
      "cell_type": "code",
      "metadata": {
        "colab": {
          "base_uri": "https://localhost:8080/"
        },
        "id": "O60mdMdlK-A6",
        "outputId": "4be518bd-1904-45e3-8380-7e894cebadbe"
      },
      "source": [
        "n4 = int(input('Digite um número: '))\n",
        "n5 = int(input('Digite um segundo número: '))\n",
        "n6 =int(input('Digite um terceiro número: '))\n",
        "\n",
        "subtracao = n4 - n5 - n6\n",
        "print(subtracao)"
      ],
      "execution_count": null,
      "outputs": [
        {
          "output_type": "stream",
          "text": [
            "Digite um número: 6\n",
            "Digite um segundo número: 4\n",
            "Digite um terceiro número: 5\n",
            "-3\n"
          ],
          "name": "stdout"
        }
      ]
    },
    {
      "cell_type": "markdown",
      "metadata": {
        "id": "RtjyyPecMDSI"
      },
      "source": [
        "###Atividade 1\n",
        "\n",
        "Crie um programa que peça para você digitar dois números (tipo float) e mostre a soma entre eles utilizando a mensagem:\n",
        "- soma entre n1 e n2 é: soma\n",
        "\n",
        "Dica: você pode armazenar os números variáveis n1 e n2, e asoma na variável soma. Utilize a saída formatada."
      ]
    },
    {
      "cell_type": "code",
      "metadata": {
        "colab": {
          "base_uri": "https://localhost:8080/"
        },
        "id": "JChhpwUZMpTG",
        "outputId": "cba7b0ab-a852-4033-97b3-f4be50f28c55"
      },
      "source": [
        "n7 = int(input('Digite um número: '))\n",
        "n8 = int(input('Digite um número: '))\n",
        "soma_atual = n7 + n8\n",
        "\n",
        "print('A soma entre o número {} e {} é {}'.format(n7,n8,soma_atual))"
      ],
      "execution_count": null,
      "outputs": [
        {
          "output_type": "stream",
          "text": [
            "Digite um número: 24\n",
            "Digite um número: 42\n",
            "A soma entre o número 24 e 42 é 66\n"
          ],
          "name": "stdout"
        }
      ]
    },
    {
      "cell_type": "code",
      "metadata": {
        "colab": {
          "base_uri": "https://localhost:8080/"
        },
        "id": "oTqYFrzTNvj0",
        "outputId": "5d3ca54f-1613-4979-a230-94501e3cd455"
      },
      "source": [
        "n9 = int(input('Digite um número: '))\n",
        "\n",
        "antecessor = n9 - 1\n",
        "sucessor = n9 +1\n",
        "\n",
        "print('O sucessor do número {} é {} e seu antecessor é {}'.format(n9,sucessor,antecessor))"
      ],
      "execution_count": null,
      "outputs": [
        {
          "output_type": "stream",
          "text": [
            "Digite um número: 5\n",
            "O sucessor do número 5 é 6 e seu antecessor é 4\n"
          ],
          "name": "stdout"
        }
      ]
    },
    {
      "cell_type": "code",
      "metadata": {
        "colab": {
          "base_uri": "https://localhost:8080/"
        },
        "id": "wj-xLAvfPJZi",
        "outputId": "bd5fe0a4-bb4e-4871-cf0e-0c3368b23e33"
      },
      "source": [
        "al = float(input('Digite a altura da parede: '))\n",
        "la = float(input('Digite a largura da parede: '))\n",
        "\n",
        "area = al * la \n",
        "\n",
        "print(area)\n",
        "\n",
        "tinta = area /2\n",
        "print(f'A área será de {area} m2 e a quantidade de tinta necessário para pintá-la é {tinta}')"
      ],
      "execution_count": null,
      "outputs": [
        {
          "output_type": "stream",
          "text": [
            "Digite a altura da parede: 10\n",
            "Digite a largura da parede: 10\n",
            "100.0\n",
            "A área será de 100.0 m2 e a quantidade de tinta necessário para pintá-la é 50.0\n"
          ],
          "name": "stdout"
        }
      ]
    },
    {
      "cell_type": "code",
      "metadata": {
        "colab": {
          "base_uri": "https://localhost:8080/"
        },
        "id": "7dJMElb4RDF_",
        "outputId": "f0d82adc-056d-46a3-fa45-12af87b85586"
      },
      "source": [
        "Km = float(input('Digite o quilometro pecorrido: '))\n",
        "Dias= int(input('Digite a quantidade de dias que o carro foi alugado: '))\n",
        "\n",
        "carro = 80 * Dias\n",
        "gasolina = 0.20 * Km\n",
        "\n",
        "soma = (80 * Dias) + (0.20 * Km)\n",
        "\n",
        "print(f'O carro alugado deverá pagar {soma} por {Dias} dias alugado e {gasolina} Km rodados')"
      ],
      "execution_count": null,
      "outputs": [
        {
          "output_type": "stream",
          "text": [
            "Digite o quilometro pecorrido: 50\n",
            "Digite a quantidade de dias que o carro foi alugado: 50\n",
            "O carro alugado deverá pagar 4010.0 por 50 dias alugado e 10.0 Km rodados\n"
          ],
          "name": "stdout"
        }
      ]
    }
  ]
}