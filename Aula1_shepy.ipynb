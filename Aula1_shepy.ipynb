{
  "nbformat": 4,
  "nbformat_minor": 0,
  "metadata": {
    "colab": {
      "name": "Aula1.shepy",
      "provenance": [],
      "authorship_tag": "ABX9TyNe35dnWtGcOKooA0EW5IZN",
      "include_colab_link": true
    },
    "kernelspec": {
      "display_name": "Python 3",
      "name": "python3"
    },
    "language_info": {
      "name": "python"
    }
  },
  "cells": [
    {
      "cell_type": "markdown",
      "metadata": {
        "id": "view-in-github",
        "colab_type": "text"
      },
      "source": [
        "<a href=\"https://colab.research.google.com/github/fernandarrios/shePY/blob/main/Aula1_shepy.ipynb\" target=\"_parent\"><img src=\"https://colab.research.google.com/assets/colab-badge.svg\" alt=\"Open In Colab\"/></a>"
      ]
    },
    {
      "cell_type": "markdown",
      "metadata": {
        "id": "0EzONOou75Cv"
      },
      "source": [
        "#Aula1 -- shepy\n",
        "\n",
        "Nessa aula nós iremos *trabalhar* com **python** e realizar operações matemáticas"
      ]
    },
    {
      "cell_type": "markdown",
      "metadata": {
        "id": "HElqJIVB88bj"
      },
      "source": [
        "##Tipos de dado\n",
        "\n",
        "Tipos numéricos:\n",
        "- Inteiros (\"int\") 9,2,5,-4\n",
        "-Reais(float) números que possuem vírgulas. 2.5, 5.3, 4.5\n",
        "\n",
        "Não númericos\n",
        "- Texto (\"str\"): 'Maria', 'Fernanda'\n",
        "\n",
        "- Booleano (\"bool\") -operador lógico: True or Falso\n",
        "\n",
        "**Importante sempre seguir um padrão**\n",
        "\n",
        "\n"
      ]
    },
    {
      "cell_type": "markdown",
      "metadata": {
        "id": "X9pLtkIH-46e"
      },
      "source": [
        "##Variáveis e identificadores\n",
        "\n",
        "Variáveis são elementos básicos na programação que armazenam os dados que precisamos em nosso algoritmo.\n",
        "Toda variável é caracterizada por um nome e por um tipo.\n",
        "Um identificador em Python pode conter apenas:\n",
        "- Letras de A a Z (minúsculas e maiúsculas)\n",
        "- Digítos de 0 a 9\n",
        "- O símbolo underscore _\n",
        "\n",
        "Atribuição da variável: =\n",
        "\n",
        "Sinal de igualdade: ==\n",
        "\n",
        "**O Python diferencia letras maiúsculas e minúsculas**.\n",
        "\n",
        "```\n",
        "nome #uma variável\n",
        "Nome #outra variável\n",
        "\n",
        "```\n",
        "\n",
        "Para colocar a variável na tela, alguns editores de python necessitam do comando \"print\"\n",
        "\n",
        "Coloca-se o tipo da variável apenas em situações específicas, como quando queremos que alguém coloque um valor determinado ou quando queremos converter. Por exemplo:\n",
        "\n",
        "| idade = 24.0 | type(idade): float | \n",
        "\n",
        "| int(idade) = 24 | type(idade): int |\n"
      ]
    },
    {
      "cell_type": "code",
      "metadata": {
        "colab": {
          "base_uri": "https://localhost:8080/"
        },
        "id": "Fvd0oZ37Cwwb",
        "outputId": "90747432-ed56-488a-ec18-4d7d678218b1"
      },
      "source": [
        "print('Hello World!')"
      ],
      "execution_count": null,
      "outputs": [
        {
          "output_type": "stream",
          "text": [
            "Hello World!\n"
          ],
          "name": "stdout"
        }
      ]
    },
    {
      "cell_type": "code",
      "metadata": {
        "colab": {
          "base_uri": "https://localhost:8080/"
        },
        "id": "k7oKbPIqC4U_",
        "outputId": "6faef545-afbf-4b92-bd58-d3891273bf58"
      },
      "source": [
        "mensagem = 'Hello World!'\n",
        "print(mensagem)\n",
        "type(mensagem)"
      ],
      "execution_count": null,
      "outputs": [
        {
          "output_type": "stream",
          "text": [
            "Hello World!\n"
          ],
          "name": "stdout"
        },
        {
          "output_type": "execute_result",
          "data": {
            "text/plain": [
              "str"
            ]
          },
          "metadata": {
            "tags": []
          },
          "execution_count": 10
        }
      ]
    },
    {
      "cell_type": "code",
      "metadata": {
        "colab": {
          "base_uri": "https://localhost:8080/"
        },
        "id": "OVfUXKTgDSuk",
        "outputId": "28f506b5-c44d-4024-bf35-5f3484e2e63b"
      },
      "source": [
        "print(mensagem, 'Estou aprendendo a programar')"
      ],
      "execution_count": null,
      "outputs": [
        {
          "output_type": "stream",
          "text": [
            "Hello World! Estou aprendendo a programar\n"
          ],
          "name": "stdout"
        }
      ]
    },
    {
      "cell_type": "code",
      "metadata": {
        "colab": {
          "base_uri": "https://localhost:8080/"
        },
        "id": "RTRHQOqtDnVG",
        "outputId": "403e62bd-f1fd-40a9-b0fc-293b5750fc90"
      },
      "source": [
        "meu_nome = 'Fernanda'\n",
        "print(meu_nome)"
      ],
      "execution_count": null,
      "outputs": [
        {
          "output_type": "stream",
          "text": [
            "Fernanda\n"
          ],
          "name": "stdout"
        }
      ]
    },
    {
      "cell_type": "code",
      "metadata": {
        "colab": {
          "base_uri": "https://localhost:8080/"
        },
        "id": "c-nSwHoiD8KI",
        "outputId": "55369456-eabf-437f-eeb5-be93bbf11bd4"
      },
      "source": [
        "print('Hello,',meu_nome,'!')"
      ],
      "execution_count": null,
      "outputs": [
        {
          "output_type": "stream",
          "text": [
            "Hello, Fernanda !\n"
          ],
          "name": "stdout"
        }
      ]
    },
    {
      "cell_type": "code",
      "metadata": {
        "colab": {
          "base_uri": "https://localhost:8080/"
        },
        "id": "SAz21RTmFgK8",
        "outputId": "0372a923-ac86-429e-c2c6-0f230a105457"
      },
      "source": [
        "idade=23\n",
        "IDADE=24\n",
        "print(idade, IDADE)"
      ],
      "execution_count": null,
      "outputs": [
        {
          "output_type": "stream",
          "text": [
            "24 25\n"
          ],
          "name": "stdout"
        }
      ]
    },
    {
      "cell_type": "code",
      "metadata": {
        "colab": {
          "base_uri": "https://localhost:8080/"
        },
        "id": "76t1Nm1GEyyB",
        "outputId": "95f416fd-3aaf-4bac-b893-4c96b029faae"
      },
      "source": [
        "salario = 1245.50\n",
        "\n",
        "print(\"O meu salário é\", salario)"
      ],
      "execution_count": null,
      "outputs": [
        {
          "output_type": "stream",
          "text": [
            "O meu salário é 1245.5\n"
          ],
          "name": "stdout"
        }
      ]
    },
    {
      "cell_type": "code",
      "metadata": {
        "colab": {
          "base_uri": "https://localhost:8080/"
        },
        "id": "PBxWdzt-Frr5",
        "outputId": "1f1141d8-68d8-461e-a337-c203994f138e"
      },
      "source": [
        "print('Olá, {}' .format(meu_nome))"
      ],
      "execution_count": null,
      "outputs": [
        {
          "output_type": "stream",
          "text": [
            "Olá, Fernanda\n"
          ],
          "name": "stdout"
        }
      ]
    },
    {
      "cell_type": "code",
      "metadata": {
        "colab": {
          "base_uri": "https://localhost:8080/"
        },
        "id": "eBKluou9HAKb",
        "outputId": "ccae23a4-7c9a-4896-9cff-50d50619321d"
      },
      "source": [
        "print('O meu nome é {} e eu tenho {}, mas ano que vem eu faço {}'.format(meu_nome, idade, IDADE))"
      ],
      "execution_count": null,
      "outputs": [
        {
          "output_type": "stream",
          "text": [
            "O meu nome é Fernanda e eu tenho 24, mas ano que vem eu faço 25\n"
          ],
          "name": "stdout"
        }
      ]
    },
    {
      "cell_type": "markdown",
      "metadata": {
        "id": "FodWrHEQQ3Ei"
      },
      "source": [
        "Armazene as informações abaixo em variáveis com suas informações e descubra o tipo de dado de cada uma delas: \n",
        "- Nome\n",
        "- Idade\n",
        "- Altura (em cm)\n",
        "- Estado civil\n",
        "- Número do sapato\n",
        "- Você tem CNH?\n"
      ]
    },
    {
      "cell_type": "code",
      "metadata": {
        "colab": {
          "base_uri": "https://localhost:8080/"
        },
        "id": "zWw6o8LAQ7CG",
        "outputId": "700537c3-0a53-456c-9df8-3a5a713c6d42"
      },
      "source": [
        "nome = 'Fernanda'\n",
        "type(nome)"
      ],
      "execution_count": null,
      "outputs": [
        {
          "output_type": "execute_result",
          "data": {
            "text/plain": [
              "str"
            ]
          },
          "metadata": {
            "tags": []
          },
          "execution_count": 1
        }
      ]
    },
    {
      "cell_type": "code",
      "metadata": {
        "colab": {
          "base_uri": "https://localhost:8080/"
        },
        "id": "wEV9PhbfRZ2S",
        "outputId": "1c7c6e7e-4a86-4c7b-a4bc-384175db7e88"
      },
      "source": [
        "idade = 23\n",
        "type(idade)"
      ],
      "execution_count": null,
      "outputs": [
        {
          "output_type": "execute_result",
          "data": {
            "text/plain": [
              "int"
            ]
          },
          "metadata": {
            "tags": []
          },
          "execution_count": 2
        }
      ]
    },
    {
      "cell_type": "code",
      "metadata": {
        "colab": {
          "base_uri": "https://localhost:8080/"
        },
        "id": "n8OX0I6uRei2",
        "outputId": "39c7758f-3930-4bdc-998d-40e739286046"
      },
      "source": [
        "altura = 1.65\n",
        "type(altura)"
      ],
      "execution_count": null,
      "outputs": [
        {
          "output_type": "execute_result",
          "data": {
            "text/plain": [
              "float"
            ]
          },
          "metadata": {
            "tags": []
          },
          "execution_count": 10
        }
      ]
    },
    {
      "cell_type": "code",
      "metadata": {
        "colab": {
          "base_uri": "https://localhost:8080/"
        },
        "id": "imjxBfs-R7W3",
        "outputId": "5a5ebb32-a46d-4333-9788-fcd8a4e52ba7"
      },
      "source": [
        "estadoCivil = 'solteira'\n",
        "type(estadoCivil)"
      ],
      "execution_count": null,
      "outputs": [
        {
          "output_type": "execute_result",
          "data": {
            "text/plain": [
              "str"
            ]
          },
          "metadata": {
            "tags": []
          },
          "execution_count": 5
        }
      ]
    },
    {
      "cell_type": "code",
      "metadata": {
        "colab": {
          "base_uri": "https://localhost:8080/"
        },
        "id": "fhldtC8pSCRm",
        "outputId": "f73501de-732f-484f-da8b-ac0823111e1a"
      },
      "source": [
        "calcado = 36\n",
        "type(calcado)"
      ],
      "execution_count": null,
      "outputs": [
        {
          "output_type": "execute_result",
          "data": {
            "text/plain": [
              "int"
            ]
          },
          "metadata": {
            "tags": []
          },
          "execution_count": 6
        }
      ]
    },
    {
      "cell_type": "code",
      "metadata": {
        "colab": {
          "base_uri": "https://localhost:8080/"
        },
        "id": "vfPSLW0HSGma",
        "outputId": "7664fae4-1564-4c9d-e59f-f70458406457"
      },
      "source": [
        "cnh = True\n",
        "type(cnh)"
      ],
      "execution_count": null,
      "outputs": [
        {
          "output_type": "execute_result",
          "data": {
            "text/plain": [
              "bool"
            ]
          },
          "metadata": {
            "tags": []
          },
          "execution_count": 9
        }
      ]
    },
    {
      "cell_type": "markdown",
      "metadata": {
        "id": "XEz0sCsoIrKs"
      },
      "source": [
        "# Operadores aritméticos\n",
        "\n",
        "\n",
        "| Operador | Significado   | Exemplo                    |\n",
        "|:---|:---|:---|\n",
        "|     +    | Adição        | a = 3 + 2                  |\n",
        "|     -    | Subtração     | b = 7 - a                  |\n",
        "|     *    | Multiplicação | c = a * b                  |\n",
        "|     /    | Divisão       | d = 10/3                   |\n",
        "|    //    | Quociente     | e = 10//3                  |\n",
        "|     %    | Resto         | f = 10%3                   |\n",
        "|    **    | Exponenciação | g = 2 ** 3                 |\n",
        "|    **    | Radiciação    | h = 16 ** (1/2)            |\n",
        "\n",
        "## Precedência de Operadores\n",
        "\n",
        "1. Parênteses\n",
        "2. Potenciação\n",
        "3. Multiplicação e divisão\n",
        "4. Soma e substração\n",
        "\n"
      ]
    },
    {
      "cell_type": "code",
      "metadata": {
        "colab": {
          "base_uri": "https://localhost:8080/"
        },
        "id": "DOczpErAJnLk",
        "outputId": "16b5c3f6-acff-4b1b-ea1a-42f52661a675"
      },
      "source": [
        "num1=2\n",
        "num2=3\n",
        "soma = num1 + num2\n",
        "\n",
        "print('A soma de {} e {} é igual a {}'.format(num1,num2,soma))"
      ],
      "execution_count": null,
      "outputs": [
        {
          "output_type": "stream",
          "text": [
            "A soma de 2 e 3 é igual a 5\n"
          ],
          "name": "stdout"
        }
      ]
    },
    {
      "cell_type": "markdown",
      "metadata": {
        "id": "CdpLae5eKLE5"
      },
      "source": [
        "Input = funciona para uma outra pessoa insira o número\n",
        "\n"
      ]
    },
    {
      "cell_type": "code",
      "metadata": {
        "colab": {
          "base_uri": "https://localhost:8080/"
        },
        "id": "RSZ9ABO3KCQg",
        "outputId": "b265a88e-5ca7-4cc1-f9d4-c721d7e45826"
      },
      "source": [
        "n1 = int(input('Digite um número: '))\n",
        "n2 = int(input('Digite um segundo número: '))\n",
        "n3 =int(input('Digite um terceiro número: '))\n",
        "\n",
        "soma = n1 + n2 + n3\n",
        "\n",
        "print(soma)\n",
        "\n"
      ],
      "execution_count": null,
      "outputs": [
        {
          "output_type": "stream",
          "text": [
            "Digite um número: 5\n",
            "Digite um segundo número: 3\n",
            "Digite um terceiro número: 4\n",
            "12\n"
          ],
          "name": "stdout"
        }
      ]
    },
    {
      "cell_type": "code",
      "metadata": {
        "colab": {
          "base_uri": "https://localhost:8080/"
        },
        "id": "O60mdMdlK-A6",
        "outputId": "4be518bd-1904-45e3-8380-7e894cebadbe"
      },
      "source": [
        "n4 = int(input('Digite um número: '))\n",
        "n5 = int(input('Digite um segundo número: '))\n",
        "n6 =int(input('Digite um terceiro número: '))\n",
        "\n",
        "subtracao = n4 - n5 - n6\n",
        "print(subtracao)"
      ],
      "execution_count": null,
      "outputs": [
        {
          "output_type": "stream",
          "text": [
            "Digite um número: 6\n",
            "Digite um segundo número: 4\n",
            "Digite um terceiro número: 5\n",
            "-3\n"
          ],
          "name": "stdout"
        }
      ]
    },
    {
      "cell_type": "markdown",
      "metadata": {
        "id": "qOd_9ONbSzjX"
      },
      "source": [
        "# Operadores relacionais (operadores de comparação)\n",
        "\n",
        "| Operador | Significado   | Exemplo                    |\n",
        "|:---|:---|:---|\n",
        "| == | Igualdade | a == b |\n",
        "| != | DesiIgualdade | a != b |\n",
        "| > | Maior que | a > b |\n",
        "| < | Menor que | a < b |\n",
        "| >= | Maior ou igual | a >= b |\n",
        "| <= | Menor ou igual | a <= b |"
      ]
    },
    {
      "cell_type": "code",
      "metadata": {
        "id": "ZJQPvp52S5-u"
      },
      "source": [
        "a = 3\n",
        "b = 5\n",
        "c = 6"
      ],
      "execution_count": null,
      "outputs": []
    },
    {
      "cell_type": "code",
      "metadata": {
        "colab": {
          "base_uri": "https://localhost:8080/"
        },
        "id": "-qlvH8-xS_ke",
        "outputId": "1f1f1abf-69de-49b7-a3ef-ca551e4e707c"
      },
      "source": [
        "a > b"
      ],
      "execution_count": null,
      "outputs": [
        {
          "output_type": "execute_result",
          "data": {
            "text/plain": [
              "False"
            ]
          },
          "metadata": {
            "tags": []
          },
          "execution_count": 12
        }
      ]
    },
    {
      "cell_type": "code",
      "metadata": {
        "colab": {
          "base_uri": "https://localhost:8080/"
        },
        "id": "C4qVxOAeTB1-",
        "outputId": "f498272b-465d-4f4f-84e2-db61c2bd78cd"
      },
      "source": [
        "a < c"
      ],
      "execution_count": null,
      "outputs": [
        {
          "output_type": "execute_result",
          "data": {
            "text/plain": [
              "True"
            ]
          },
          "metadata": {
            "tags": []
          },
          "execution_count": 13
        }
      ]
    },
    {
      "cell_type": "code",
      "metadata": {
        "colab": {
          "base_uri": "https://localhost:8080/"
        },
        "id": "Opsb9vWhTDRx",
        "outputId": "41ba384c-b041-4ed5-a26b-437089ec734a"
      },
      "source": [
        "a != b"
      ],
      "execution_count": null,
      "outputs": [
        {
          "output_type": "execute_result",
          "data": {
            "text/plain": [
              "True"
            ]
          },
          "metadata": {
            "tags": []
          },
          "execution_count": 14
        }
      ]
    },
    {
      "cell_type": "code",
      "metadata": {
        "colab": {
          "base_uri": "https://localhost:8080/"
        },
        "id": "ZAeMSvz5TGkV",
        "outputId": "9b71340b-d037-49e0-e409-74b4e839cd3f"
      },
      "source": [
        "a = int(input('Valor de a: '))\n",
        "b = int(input('Valor de b: '))\n",
        "a == b"
      ],
      "execution_count": null,
      "outputs": [
        {
          "output_type": "stream",
          "text": [
            "Valor de a: 9\n",
            "Valor de b: 4\n"
          ],
          "name": "stdout"
        },
        {
          "output_type": "execute_result",
          "data": {
            "text/plain": [
              "False"
            ]
          },
          "metadata": {
            "tags": []
          },
          "execution_count": 16
        }
      ]
    },
    {
      "cell_type": "markdown",
      "metadata": {
        "id": "RtjyyPecMDSI"
      },
      "source": [
        "###Atividade 1\n",
        "\n",
        "Crie um programa que peça para você digitar dois números (tipo float) e mostre a soma entre eles utilizando a mensagem:\n",
        "- soma entre n1 e n2 é:`` soma ``\n",
        "\n",
        "Dica: você pode armazenar os números variáveis n1 e n2, e a`soma na variável soma. \n",
        "\n",
        "Utilize a saída formatada."
      ]
    },
    {
      "cell_type": "code",
      "metadata": {
        "colab": {
          "base_uri": "https://localhost:8080/"
        },
        "id": "JChhpwUZMpTG",
        "outputId": "cba7b0ab-a852-4033-97b3-f4be50f28c55"
      },
      "source": [
        "n7 = int(input('Digite um número: '))\n",
        "n8 = int(input('Digite um número: '))\n",
        "soma_atual = n7 + n8\n",
        "\n",
        "print('A soma entre o número {} e {} é {}'.format(n7,n8,soma_atual))"
      ],
      "execution_count": null,
      "outputs": [
        {
          "output_type": "stream",
          "text": [
            "Digite um número: 24\n",
            "Digite um número: 42\n",
            "A soma entre o número 24 e 42 é 66\n"
          ],
          "name": "stdout"
        }
      ]
    },
    {
      "cell_type": "markdown",
      "metadata": {
        "id": "qp4A7QjtT0ie"
      },
      "source": [
        "### Atividade 2:\n",
        "Faça um programa que leia/receba a entrada de um número inteiro e mostre na tela o seu sucessor e seu antecessor.\n",
        "- Exemplo de mensagem de retorno: O antecessor do número 5 é 4 e o sucessor é 6."
      ]
    },
    {
      "cell_type": "code",
      "metadata": {
        "colab": {
          "base_uri": "https://localhost:8080/"
        },
        "id": "oTqYFrzTNvj0",
        "outputId": "5d3ca54f-1613-4979-a230-94501e3cd455"
      },
      "source": [
        "n9 = int(input('Digite um número: '))\n",
        "\n",
        "antecessor = n9 - 1\n",
        "sucessor = n9 +1\n",
        "\n",
        "print('O sucessor do número {} é {} e seu antecessor é {}'.format(n9,sucessor,antecessor))"
      ],
      "execution_count": null,
      "outputs": [
        {
          "output_type": "stream",
          "text": [
            "Digite um número: 5\n",
            "O sucessor do número 5 é 6 e seu antecessor é 4\n"
          ],
          "name": "stdout"
        }
      ]
    },
    {
      "cell_type": "markdown",
      "metadata": {
        "id": "bIbdQlVMUEBW"
      },
      "source": [
        "### Atividade 3:\n",
        "Faça um programa que leia a largura e a altura de uma parede retangular em metros, calcule a sua área e a quantidade de tinta necessária para pintá-la, sabendo que cada litro de tinta pinta uma área de 2 metros quadrados."
      ]
    },
    {
      "cell_type": "code",
      "metadata": {
        "colab": {
          "base_uri": "https://localhost:8080/"
        },
        "id": "wj-xLAvfPJZi",
        "outputId": "bd5fe0a4-bb4e-4871-cf0e-0c3368b23e33"
      },
      "source": [
        "al = float(input('Digite a altura da parede: '))\n",
        "la = float(input('Digite a largura da parede: '))\n",
        "\n",
        "area = al * la \n",
        "\n",
        "print(area)\n",
        "\n",
        "tinta = area /2\n",
        "print(f'A área será de {area} m2 e a quantidade de tinta necessário para pintá-la é {tinta}')"
      ],
      "execution_count": null,
      "outputs": [
        {
          "output_type": "stream",
          "text": [
            "Digite a altura da parede: 10\n",
            "Digite a largura da parede: 10\n",
            "100.0\n",
            "A área será de 100.0 m2 e a quantidade de tinta necessário para pintá-la é 50.0\n"
          ],
          "name": "stdout"
        }
      ]
    },
    {
      "cell_type": "markdown",
      "metadata": {
        "id": "Pll2hAX2UMv5"
      },
      "source": [
        "### Atividade 4:\n",
        "Escreva um programa que pergunte a quantidade de Km percorridos por um carro alugado e a quantidade de dias pelos quais ele foi alugado. \n",
        "\n",
        "Calcule o preço a pagar, sabendo que o carro custa **80 reais por dia** e **0.20 reais (20 centavos) por Km rodado**."
      ]
    },
    {
      "cell_type": "code",
      "metadata": {
        "colab": {
          "base_uri": "https://localhost:8080/"
        },
        "id": "7dJMElb4RDF_",
        "outputId": "f0d82adc-056d-46a3-fa45-12af87b85586"
      },
      "source": [
        "Km = float(input('Digite o quilometro pecorrido: '))\n",
        "Dias= int(input('Digite a quantidade de dias que o carro foi alugado: '))\n",
        "\n",
        "carro = 80 * Dias\n",
        "gasolina = 0.20 * Km\n",
        "\n",
        "soma = (80 * Dias) + (0.20 * Km)\n",
        "\n",
        "print(f'O carro alugado deverá pagar {soma} por {Dias} dias alugado e {gasolina} Km rodados')"
      ],
      "execution_count": null,
      "outputs": [
        {
          "output_type": "stream",
          "text": [
            "Digite o quilometro pecorrido: 50\n",
            "Digite a quantidade de dias que o carro foi alugado: 50\n",
            "O carro alugado deverá pagar 4010.0 por 50 dias alugado e 10.0 Km rodados\n"
          ],
          "name": "stdout"
        }
      ]
    },
    {
      "cell_type": "markdown",
      "metadata": {
        "id": "cEMV7_IYUQWs"
      },
      "source": [
        "### Atividade 5: \n",
        "\n",
        "Utilizando as operações matemáticas vistas em aula, calcule o perímetro e a área de um círculo.\n",
        "\n",
        "Armazene o raio na variável **radius** e os valores calculados, nas variáveis **circle_perimeter** e **circle_area**. \n",
        "\n",
        "Obs: Para pi utilize o valor de 3.14. O valor do raio pode ser 5, ou qualquer valor a sua escolha."
      ]
    },
    {
      "cell_type": "code",
      "metadata": {
        "colab": {
          "base_uri": "https://localhost:8080/"
        },
        "id": "yiI_ZITnUX6I",
        "outputId": "c5da71c0-5981-4537-a4cd-d32837ec2820"
      },
      "source": [
        "radius = float(input('Insira o raio do círculo: '))\n",
        "pi = 3.14\n",
        "circle_area = pi * (radius**2)\n",
        "print(f'A área do círculo é {circle_area}')"
      ],
      "execution_count": null,
      "outputs": [
        {
          "output_type": "stream",
          "text": [
            "Insira o raio do círculo: 8\n",
            "A área do círculo é 200.96\n"
          ],
          "name": "stdout"
        }
      ]
    },
    {
      "cell_type": "code",
      "metadata": {
        "colab": {
          "base_uri": "https://localhost:8080/"
        },
        "id": "n_6DrFOAVKzc",
        "outputId": "5dce6746-80b1-44d3-9f69-69a4487dca5f"
      },
      "source": [
        "radius = float(input('Insira o raio do círculo: '))\n",
        "pi = 3.14\n",
        "circle_perimeter = (2 * pi) * radius\n",
        "print(f'O perímetro do círculo é {circle_perimeter }')"
      ],
      "execution_count": null,
      "outputs": [
        {
          "output_type": "stream",
          "text": [
            "Insira o raio do círculo: 2\n",
            "O perímetro do círculo é 12.56\n"
          ],
          "name": "stdout"
        }
      ]
    },
    {
      "cell_type": "markdown",
      "metadata": {
        "id": "QFkQEzHpWEEu"
      },
      "source": [
        "### Atividade 6: \n",
        "Desenvolva um programa que calcule e mostre a média entre as notas de um aluno, sendo as notas: \n",
        "-  Prova 1: 8\n",
        "- Prova 2: 9.5\n",
        "- Prova 3: 6\n",
        "\n",
        "OBS: Utilize a variável **mean** para armazenar o valor de média obtida. "
      ]
    },
    {
      "cell_type": "code",
      "metadata": {
        "colab": {
          "base_uri": "https://localhost:8080/"
        },
        "id": "ISSC7PcmWJps",
        "outputId": "c10ff16d-84a7-470e-f7ec-e7094eee6513"
      },
      "source": [
        "p1 = 1.8\n",
        "p2 = 9.5\n",
        "p3 = 6\n",
        "\n",
        "mean = (p1 + p2 + p3)/2\n",
        "print(mean)"
      ],
      "execution_count": null,
      "outputs": [
        {
          "output_type": "stream",
          "text": [
            "8.65\n"
          ],
          "name": "stdout"
        }
      ]
    },
    {
      "cell_type": "markdown",
      "metadata": {
        "id": "hDAKKKuV_Vro"
      },
      "source": [
        "###Atividade 7:\n",
        "Converta a equação abaixo para um código em Python e obtenha o resultado.\n",
        "\n",
        "Dica: Não esqueça das precedências dos operadores.\n",
        "\n",
        "$ \\sqrt{\\frac{(2-3)^{2}}{4}}$"
      ]
    },
    {
      "cell_type": "code",
      "metadata": {
        "colab": {
          "base_uri": "https://localhost:8080/"
        },
        "id": "JwKIsyK3_m2j",
        "outputId": "d881cbd1-ca54-4e9d-b668-dbed74f4c3e6"
      },
      "source": [
        "((2-3)**2/4)**(1/2)"
      ],
      "execution_count": null,
      "outputs": [
        {
          "output_type": "execute_result",
          "data": {
            "text/plain": [
              "0.5"
            ]
          },
          "metadata": {
            "tags": []
          },
          "execution_count": 2
        }
      ]
    }
  ]
}